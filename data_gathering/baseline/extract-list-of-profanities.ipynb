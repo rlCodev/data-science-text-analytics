{
 "cells": [
  {
   "attachments": {},
   "cell_type": "markdown",
   "metadata": {},
   "source": [
    "## Run profanity filter on movie scripts"
   ]
  },
  {
   "attachments": {},
   "cell_type": "markdown",
   "metadata": {},
   "source": [
    "We use this script to filter out all occurences of profanity and their counts. For this, we make use of an external library called \"profanity-filter\", which adds a step in the spacy pipeline, after tokenization. Lastly we create a .txt containing imdb-ids and a list of profanity in the movie.  "
   ]
  },
  {
   "cell_type": "code",
   "execution_count": 1,
   "metadata": {},
   "outputs": [],
   "source": [
    "import spacy\n",
    "from profanity_filter import ProfanityFilter\n",
    "from tqdm import tqdm\n",
    "import glob\n",
    "import time\n",
    "from multiprocessing import Process"
   ]
  },
  {
   "cell_type": "code",
   "execution_count": 6,
   "metadata": {},
   "outputs": [],
   "source": [
    "files = glob.glob('../../data/script/*', recursive=True)\n",
    "\n",
    "# Remove unnaccessary tools in the spacy pipeline\n",
    "nlp = spacy.load('en_core_web_sm', disable=[\"ner\", \"tagger\", \"parser\", \"textcat\", \"lemmatizer\"])\n",
    "profanity_filter = ProfanityFilter(nlps={'en': nlp})\n",
    "# add the profanity filter to the spacy pipeline\n",
    "nlp.add_pipe(profanity_filter.spacy_component, last=True)\n",
    "\n",
    "def get_bad_words(text):\n",
    "    words_and_counts = {}\n",
    "    doc = nlp(text)\n",
    "    for token in doc:\n",
    "        if token._.is_profane:\n",
    "            words_and_counts[token._.original_profane_word] = words_and_counts.get(token._.original_profane_word, 0) + 1\n",
    "    return words_and_counts"
   ]
  },
  {
   "cell_type": "code",
   "execution_count": 8,
   "metadata": {},
   "outputs": [
    {
     "name": "stderr",
     "output_type": "stream",
     "text": [
      " 24%|██▎       | 113/479 [09:03<28:30,  4.67s/it]"
     ]
    },
    {
     "name": "stdout",
     "output_type": "stream",
     "text": [
      "skipping\n"
     ]
    },
    {
     "name": "stderr",
     "output_type": "stream",
     "text": [
      "100%|██████████| 479/479 [39:54<00:00,  5.00s/it]\n"
     ]
    }
   ],
   "source": [
    "# Location of the output file\n",
    "resultFile = open('./output/imdb_id_with_profanity_list.txt', 'w')\n",
    "\n",
    "for idx, filepath in tqdm(enumerate(files), total=len(files)):\n",
    "    if(idx == 113):\n",
    "        continue\n",
    "\n",
    "    with open(filepath, 'r') as f:\n",
    "        script = f.read()\n",
    "    \n",
    "    imdb_id = filepath.split('\\\\')[-1].split('.')[0]\n",
    "    bad_words = get_bad_words(script)\n",
    "\n",
    "    if(bad_words == {}):\n",
    "        continue\n",
    "    resultFile.write(imdb_id + ',' + str(bad_words).replace('{', '').replace('}', '').replace('\\'', '') + '\\n')"
   ]
  }
 ],
 "metadata": {
  "kernelspec": {
   "display_name": "Python 3",
   "language": "python",
   "name": "python3"
  },
  "language_info": {
   "codemirror_mode": {
    "name": "ipython",
    "version": 3
   },
   "file_extension": ".py",
   "mimetype": "text/x-python",
   "name": "python",
   "nbconvert_exporter": "python",
   "pygments_lexer": "ipython3",
   "version": "3.7.16"
  },
  "orig_nbformat": 4,
  "vscode": {
   "interpreter": {
    "hash": "886aa8fa3d382ae9c8d950e48333371cafb0684066b1d3fef9589771341aab2e"
   }
  }
 },
 "nbformat": 4,
 "nbformat_minor": 2
}
