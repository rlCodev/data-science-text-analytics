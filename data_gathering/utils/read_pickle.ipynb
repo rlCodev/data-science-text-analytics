{
 "cells": [
  {
   "cell_type": "code",
   "execution_count": 1,
   "metadata": {},
   "outputs": [],
   "source": [
    "import pickle as pkl\n",
    "import pandas as pd\n",
    "with open(\"./Data/Data/alcohol_test.pkl\", \"rb\") as f:\n",
    "    object = pkl.load(f)\n",
    "    \n",
    "df = pd.DataFrame(object)\n",
    "df.to_csv(r'alcohol_test.csv')"
   ]
  }
 ],
 "metadata": {
  "kernelspec": {
   "display_name": "Python 3",
   "language": "python",
   "name": "python3"
  },
  "language_info": {
   "codemirror_mode": {
    "name": "ipython",
    "version": 3
   },
   "file_extension": ".py",
   "mimetype": "text/x-python",
   "name": "python",
   "nbconvert_exporter": "python",
   "pygments_lexer": "ipython3",
   "version": "3.9.13"
  },
  "orig_nbformat": 4,
  "vscode": {
   "interpreter": {
    "hash": "886aa8fa3d382ae9c8d950e48333371cafb0684066b1d3fef9589771341aab2e"
   }
  }
 },
 "nbformat": 4,
 "nbformat_minor": 2
}
