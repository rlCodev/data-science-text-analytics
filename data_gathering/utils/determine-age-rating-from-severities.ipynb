{
 "cells": [
  {
   "attachments": {},
   "cell_type": "markdown",
   "metadata": {},
   "source": [
    "## Profanity filter\n",
    "\n"
   ]
  },
  {
   "attachments": {},
   "cell_type": "markdown",
   "metadata": {},
   "source": [
    "Based on the Severity levels our model predicts, we can derive our predicted age rating, based on criteria mentioned by the parental guide. \n",
    "\n"
   ]
  },
  {
   "attachments": {},
   "cell_type": "markdown",
   "metadata": {},
   "source": [
    "|                       |    G    |   PG   |                  PG-13                  |    R    |   NC-17   |\n",
    "|-----------------------|:-------:|:------:|:---------------------------------------:|:-------:|:---------:|\n",
    "| Offensive Language    | None    | Some   | Max. of 1 harsher sexually derived word | Allowed | Strong    |\n",
    "| Depiction of Violence | minimal | Some   | Some, not realistic or extreme          | Allowed | Strong    |\n",
    "| Nudity                | None    | None   | Can be                                  | Allowed | Strong    |\n",
    "| Sex Scenes            | None    | None   | None                                    | Allowed | Strong    |\n",
    "| Drug Use              | None    | None   | Can be                                  | Allowed | Strong    |\n",
    "|                       |         |        |                                         |         |           |\n"
   ]
  },
  {
   "attachments": {},
   "cell_type": "markdown",
   "metadata": {},
   "source": []
  },
  {
   "cell_type": "markdown",
   "metadata": {},
   "source": [
    "\n",
    "|                       |  **G**  | **PG** |                **PG-13**                |  **R**  | **NC-17** |\n",
    "|-----------------------|:-------:|:------:|:---------------------------------------:|:-------:|:---------:|\n",
    "| Nudity                | None    | None   | Mild                                    | Severe  | Severe    |\n",
    "| Depiction of Violence | Mild    | Mild   | Mild                                    | Severe  | Severe    |\n",
    "| Offensive Language    | None    | Mild   | Max. of 1 harsher sexually derived word | Severe  | Severe    |\n",
    "| Drug Use              | None    | None   | Moderate                                | Severe  | Severe    |"
   ]
  },
  {
   "cell_type": "code",
   "execution_count": 3,
   "metadata": {},
   "outputs": [],
   "source": [
    "def get_rating(severities, swear_words):\n",
    "    \"\"\"\n",
    "    Determine the age rating from the severities of their respective categories. \n",
    "    \"\"\"\n",
    "    if severities:\n",
    "        if severities[0] == 0 and severities[1] <= 1 and severities[2] == 0 and severities[3] == 0:\n",
    "            return \"G\"\n",
    "        elif severities[0] == 0 and severities[1] <= 1 and severities[2] <= 1 and severities[3] == 0:\n",
    "            return \"PG\"\n",
    "        elif severities[0] <= 1 and severities[1] <= 1 and severities[3] <= 2 and len(swear_words) < 2:\n",
    "            return \"PG-13\"\n",
    "        elif severities[0] == 5 and severities[1] == 5 and severities[2] == 5 and severities[3] == 5:\n",
    "            return \"NC-17\"\n",
    "        else:\n",
    "            return \"R\"\n",
    "    else:\n",
    "        return \"G\""
   ]
  }
 ],
 "metadata": {
  "kernelspec": {
   "display_name": "Python 3",
   "language": "python",
   "name": "python3"
  },
  "language_info": {
   "codemirror_mode": {
    "name": "ipython",
    "version": 3
   },
   "file_extension": ".py",
   "mimetype": "text/x-python",
   "name": "python",
   "nbconvert_exporter": "python",
   "pygments_lexer": "ipython3",
   "version": "3.9.13"
  },
  "orig_nbformat": 4,
  "vscode": {
   "interpreter": {
    "hash": "886aa8fa3d382ae9c8d950e48333371cafb0684066b1d3fef9589771341aab2e"
   }
  }
 },
 "nbformat": 4,
 "nbformat_minor": 2
}
