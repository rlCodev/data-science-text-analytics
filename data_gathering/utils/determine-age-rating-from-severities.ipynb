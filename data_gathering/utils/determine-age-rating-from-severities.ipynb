{
 "cells": [
  {
   "attachments": {},
   "cell_type": "markdown",
   "metadata": {},
   "source": [
    "## Profanity filter\n",
    "\n"
   ]
  },
  {
   "attachments": {},
   "cell_type": "markdown",
   "metadata": {},
   "source": [
    "Based on the Severity levels our model predicts, we can derive our predicted age rating, based on criteria mentioned by the parental guide. \n",
    "\n"
   ]
  },
  {
   "attachments": {},
   "cell_type": "markdown",
   "metadata": {},
   "source": [
    "|                       |    G    |   PG   |                  PG-13                  |    R    |   NC-17   |\n",
    "|-----------------------|:-------:|:------:|:---------------------------------------:|:-------:|:---------:|\n",
    "| Offensive Language    | None    | Some   | Max. of 1 harsher sexually derived word | Allowed | Strong    |\n",
    "| Depiction of Violence | minimal | Some   | Some, not realistic or extreme          | Allowed | Strong    |\n",
    "| Nudity                | None    | None   | Can be                                  | Allowed | Strong    |\n",
    "| Sex Scenes            | None    | None   | None                                    | Allowed | Strong    |\n",
    "| Drug Use              | None    | None   | Can be                                  | Allowed | Strong    |\n",
    "|                       |         |        |                                         |         |           |\n"
   ]
  },
  {
   "attachments": {},
   "cell_type": "markdown",
   "metadata": {},
   "source": [
    "We translate these requirements into integer values, whith following mapping: "
   ]
  },
  {
   "attachments": {},
   "cell_type": "markdown",
   "metadata": {},
   "source": [
    "0: None\n",
    "\n",
    "1: Mild\n",
    "\n",
    "2: Moderate\n",
    "\n",
    "3: Severe"
   ]
  },
  {
   "attachments": {},
   "cell_type": "markdown",
   "metadata": {},
   "source": [
    "Our resulting classification criteria is as follows, where a certain age rating may not have a severiity rating larger than the corresponding integer value. The difference between 'R' and 'NC-17', is that if all severities are rates as 'Severe' (= 3), the movie is rated 'NC-17', otherwise it is rated 'R'."
   ]
  },
  {
   "attachments": {},
   "cell_type": "markdown",
   "metadata": {},
   "source": [
    "\n",
    "|                       |  **G**  | **PG** |   **PG-13**  |  **R**  | **NC-17** |\n",
    "|-----------------------|:-------:|:------:|:------------:|:-------:|:---------:|\n",
    "| Nudity                |    0    |    0   |       1      |    3    |    3      |\n",
    "| Depiction of Violence |    1    |    1   |       1      |    3    |    3      |\n",
    "| Offensive Language    |    0    |    1   |       2      |    3    |    3      |\n",
    "| Drug Use              |    0    |    0   |       2      |    3    |    3      |"
   ]
  },
  {
   "cell_type": "code",
   "execution_count": 3,
   "metadata": {},
   "outputs": [],
   "source": [
    "def get_rating(severities, swear_words):\n",
    "    \"\"\"\n",
    "    Determine the age rating from the severities of their respective categories. \n",
    "    \"\"\"\n",
    "    if severities:\n",
    "        if severities[0] == 0 and severities[1] <= 1 and severities[2] == 0 and severities[3] == 0:\n",
    "            return \"G\"\n",
    "        elif severities[0] == 0 and severities[1] <= 1 and severities[2] <= 1 and severities[3] == 0:\n",
    "            return \"PG\"\n",
    "        elif severities[0] <= 1 and severities[1] <= 1 and severities[3] <= 2 and len(swear_words) < 2:\n",
    "            return \"PG-13\"\n",
    "        elif severities[0] == 5 and severities[1] == 5 and severities[2] == 5 and severities[3] == 5:\n",
    "            return \"NC-17\"\n",
    "        else:\n",
    "            return \"R\"\n",
    "    else:\n",
    "        return \"G\""
   ]
  }
 ],
 "metadata": {
  "kernelspec": {
   "display_name": "Python 3",
   "language": "python",
   "name": "python3"
  },
  "language_info": {
   "codemirror_mode": {
    "name": "ipython",
    "version": 3
   },
   "file_extension": ".py",
   "mimetype": "text/x-python",
   "name": "python",
   "nbconvert_exporter": "python",
   "pygments_lexer": "ipython3",
   "version": "3.9.16"
  },
  "orig_nbformat": 4,
  "vscode": {
   "interpreter": {
    "hash": "886aa8fa3d382ae9c8d950e48333371cafb0684066b1d3fef9589771341aab2e"
   }
  }
 },
 "nbformat": 4,
 "nbformat_minor": 2
}
