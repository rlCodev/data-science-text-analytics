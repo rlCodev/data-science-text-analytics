{
 "cells": [
  {
   "attachments": {},
   "cell_type": "markdown",
   "metadata": {},
   "source": [
    "## Profanity filter\n",
    "\n"
   ]
  },
  {
   "attachments": {},
   "cell_type": "markdown",
   "metadata": {},
   "source": []
  },
  {
   "cell_type": "code",
   "execution_count": 2,
   "metadata": {},
   "outputs": [],
   "source": [
    "import spacy\n",
    "from profanity_filter import ProfanityFilter"
   ]
  },
  {
   "cell_type": "code",
   "execution_count": 3,
   "metadata": {},
   "outputs": [],
   "source": [
    "nlp = spacy.load('en_core_web_sm')\n",
    "profanity_filter = ProfanityFilter(nlps={'en': nlp})  # reuse spacy Language (optional)\n",
    "nlp.add_pipe(profanity_filter.spacy_component, last=True)\n",
    "\n",
    "def get_bad_words(text):\n",
    "    words_and_counts = {}\n",
    "    doc = nlp(text)\n",
    "    for token in doc:\n",
    "        if token._.is_profane:\n",
    "            words_and_counts[token._.original_profane_word] = words_and_counts.get(token._.original_profane_word, 0) + 1\n",
    "    return words_and_counts"
   ]
  },
  {
   "cell_type": "code",
   "execution_count": 11,
   "metadata": {},
   "outputs": [
    {
     "name": "stdout",
     "output_type": "stream",
     "text": [
      "{'shit': 1, 'shitty': 1, 'fucking': 1, 'fuck': 1, 'boobs': 1}\n"
     ]
    }
   ],
   "source": [
    "testdoc = \"This is a shit sentence, with all shitty kinds of fucking fucks. Boobs.\"\n",
    "\n",
    "print(get_bad_words(testdoc))"
   ]
  }
 ],
 "metadata": {
  "kernelspec": {
   "display_name": "DSTA",
   "language": "python",
   "name": "python3"
  },
  "language_info": {
   "codemirror_mode": {
    "name": "ipython",
    "version": 3
   },
   "file_extension": ".py",
   "mimetype": "text/x-python",
   "name": "python",
   "nbconvert_exporter": "python",
   "pygments_lexer": "ipython3",
   "version": "3.9.16"
  },
  "orig_nbformat": 4,
  "vscode": {
   "interpreter": {
    "hash": "a756606616f6fecdd1e064c9323ddbc373f4f115fac167c58ba550302a0aebf4"
   }
  }
 },
 "nbformat": 4,
 "nbformat_minor": 2
}
