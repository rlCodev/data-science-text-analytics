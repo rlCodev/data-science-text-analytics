{
 "cells": [
  {
   "cell_type": "code",
   "execution_count": 113,
   "metadata": {},
   "outputs": [],
   "source": [
    "import pandas as pd\n",
    "import numpy as np\n",
    "from sklearn.feature_extraction.text import TfidfVectorizer\n",
    "from sklearn.svm import SVC\n",
    "from sklearn.model_selection import train_test_split\n",
    "from sklearn.preprocessing import StandardScaler\n",
    "from sklearn.pipeline import Pipeline\n",
    "from sklearn.compose import ColumnTransformer\n",
    "from sklearn.base import TransformerMixin\n",
    "import nltk\n",
    "from nltk.corpus import stopwords\n",
    "from nltk.stem import WordNetLemmatizer\n",
    "import string\n",
    "from sklearn.preprocessing import FunctionTransformer\n",
    "import joblib\n",
    "from sklearn.ensemble import RandomForestClassifier\n",
    "from sklearn.preprocessing import LabelEncoder\n",
    "from sklearn.metrics import accuracy_score\n",
    "from sklearn.metrics import classification_report\n",
    "from sklearn.metrics import f1_score"
   ]
  },
  {
   "cell_type": "code",
   "execution_count": 114,
   "metadata": {},
   "outputs": [],
   "source": [
    "# Read movie scripts from data directory and remove boilerplate\n",
    "def get_script_from_id(id):\n",
    "    script = open('../data/script/' + id + '.script', 'r').read()\n",
    "    # print(script)\n",
    "    script = script.replace(\"'\", \" \").replace('\"', ' ').replace('\\n', ' ').replace('\\r', ' ').replace('\\t', ' ').replace('\\b', ' ').replace('\\\\', ' ')\n",
    "    return script\n",
    "\n",
    "# Merge script data with labels crawled in data gathering\n",
    "def get_pd_dataframe():\n",
    "    inputFile = open('../data_gathering/baseline/output/imdb_id_with_age_rating_and_labels.txt')\n",
    "    df_data = []\n",
    "    for line in inputFile:\n",
    "        line_data = line.strip().split(',')\n",
    "        # print(line_data)\n",
    "        line_data.append(int(line_data[3]) + int(line_data[4]) + int(line_data[5]) + int(line_data[6]))\n",
    "        \n",
    "        max_index = 0\n",
    "        max_value = 0\n",
    "        for i in range(3,7):\n",
    "            vote_count = int(line_data[i])\n",
    "            if(vote_count >= max_value):\n",
    "                max_index = i - 3\n",
    "                max_value = vote_count\n",
    "        line_data.append(max_index)\n",
    "        try:\n",
    "            script = get_script_from_id(line_data[0])\n",
    "        except:\n",
    "            # print('Error on loading script for id: ' + line_data[0])\n",
    "            continue\n",
    "        line_data.append(script)\n",
    "        df_data.append(line_data)\n",
    "\n",
    "    # id | Aspect | None | Mild | Moderate | Severe | Total_votes | Aspect_rating | text\n",
    "    df = pd.DataFrame(df_data, columns=['imdb_id', 'age_rating', 'aspect', 'votes none', 'votes mild', 'votes moderate', 'votes severe', 'total_votes', 'aspect_rating', 'text'])\n",
    "    df.drop(columns=[\"age_rating\"], inplace=True)\n",
    "    df = df.astype({'votes mild':'int', 'votes moderate':'int', 'votes severe':'int', 'votes none':'int', 'total_votes':'int', 'aspect_rating':'int'})\n",
    "    return df"
   ]
  },
  {
   "cell_type": "code",
   "execution_count": 115,
   "metadata": {},
   "outputs": [
    {
     "name": "stderr",
     "output_type": "stream",
     "text": [
      "[nltk_data] Downloading package stopwords to\n",
      "[nltk_data]     /Users/leonremke/nltk_data...\n",
      "[nltk_data]   Package stopwords is already up-to-date!\n",
      "[nltk_data] Downloading package punkt to /Users/leonremke/nltk_data...\n",
      "[nltk_data]   Package punkt is already up-to-date!\n",
      "[nltk_data] Downloading package wordnet to\n",
      "[nltk_data]     /Users/leonremke/nltk_data...\n",
      "[nltk_data]   Package wordnet is already up-to-date!\n"
     ]
    }
   ],
   "source": [
    "# Download standard datasets for filtering movie scripts\n",
    "nltk.download('stopwords')\n",
    "nltk.download('punkt')\n",
    "nltk.download('wordnet')\n",
    "\n",
    "# Text preprocessing class for preprocessing of movie scripts\n",
    "class TextPreprocessor(TransformerMixin):\n",
    "    def __init__(self):\n",
    "        self.stop_words = set(stopwords.words('english'))\n",
    "        self.lemmatizer = WordNetLemmatizer()\n",
    "    \n",
    "    def fit(self, X, y=None):\n",
    "        return self\n",
    "    \n",
    "    def transform(self, X, y=None):\n",
    "        X_processed = []\n",
    "        for text in X:\n",
    "            # Convert to lowercase and remove punctuation\n",
    "            text = text.lower().translate(str.maketrans('', '', string.punctuation))\n",
    "            # Tokenize the text\n",
    "            tokens = nltk.word_tokenize(text)\n",
    "            # Remove stop words and lemmatize the remaining words\n",
    "            processed_tokens = [self.lemmatizer.lemmatize(token) for token in tokens if token not in self.stop_words]\n",
    "            # Join the processed tokens back into a single string\n",
    "            processed_text = ' '.join(processed_tokens)\n",
    "            X_processed.append(processed_text)\n",
    "        return X_processed\n"
   ]
  },
  {
   "cell_type": "code",
   "execution_count": 116,
   "metadata": {},
   "outputs": [],
   "source": [
    "# Load the data\n",
    "df = get_pd_dataframe()\n",
    "\n",
    "# Drop rows with less than 5 votes\n",
    "rows_to_drop = df.loc[df['total_votes'] < 5].index\n",
    "df = df.drop(rows_to_drop)\n",
    "\n",
    "# Group the dataframe by 'aspect' and create a dictionary of dataframes\n",
    "df_dict = {aspect: aspect_df.drop('aspect', axis=1) for aspect, aspect_df in df.groupby('aspect')}\n",
    "for aspect, aspect_df in df_dict.items():\n",
    "    aspect_df.drop(columns=['votes none', 'votes mild', 'votes moderate', 'votes severe', 'total_votes'], inplace=True)"
   ]
  },
  {
   "cell_type": "code",
   "execution_count": 117,
   "metadata": {},
   "outputs": [],
   "source": [
    "np.random.seed(100)"
   ]
  },
  {
   "cell_type": "code",
   "execution_count": 118,
   "metadata": {},
   "outputs": [
    {
     "data": {
      "text/html": [
       "<div>\n",
       "<style scoped>\n",
       "    .dataframe tbody tr th:only-of-type {\n",
       "        vertical-align: middle;\n",
       "    }\n",
       "\n",
       "    .dataframe tbody tr th {\n",
       "        vertical-align: top;\n",
       "    }\n",
       "\n",
       "    .dataframe thead th {\n",
       "        text-align: right;\n",
       "    }\n",
       "</style>\n",
       "<table border=\"1\" class=\"dataframe\">\n",
       "  <thead>\n",
       "    <tr style=\"text-align: right;\">\n",
       "      <th></th>\n",
       "      <th>imdb_id</th>\n",
       "      <th>aspect_rating</th>\n",
       "      <th>text</th>\n",
       "    </tr>\n",
       "  </thead>\n",
       "  <tbody>\n",
       "    <tr>\n",
       "      <th>1</th>\n",
       "      <td>tt0032138</td>\n",
       "      <td>1</td>\n",
       "      <td>FADE IN -- Title:  For nearly forty years this...</td>\n",
       "    </tr>\n",
       "    <tr>\n",
       "      <th>6</th>\n",
       "      <td>tt0035423</td>\n",
       "      <td>0</td>\n",
       "      <td>KATE AND ...</td>\n",
       "    </tr>\n",
       "    <tr>\n",
       "      <th>11</th>\n",
       "      <td>tt0038650</td>\n",
       "      <td>1</td>\n",
       "      <td>IT S A WOND...</td>\n",
       "    </tr>\n",
       "    <tr>\n",
       "      <th>16</th>\n",
       "      <td>tt0047396</td>\n",
       "      <td>1</td>\n",
       "      <td>REAR WI...</td>\n",
       "    </tr>\n",
       "    <tr>\n",
       "      <th>21</th>\n",
       "      <td>tt0048545</td>\n",
       "      <td>2</td>\n",
       "      <td>REBEL ...</td>\n",
       "    </tr>\n",
       "  </tbody>\n",
       "</table>\n",
       "</div>"
      ],
      "text/plain": [
       "      imdb_id  aspect_rating  \\\n",
       "1   tt0032138              1   \n",
       "6   tt0035423              0   \n",
       "11  tt0038650              1   \n",
       "16  tt0047396              1   \n",
       "21  tt0048545              2   \n",
       "\n",
       "                                                 text  \n",
       "1   FADE IN -- Title:  For nearly forty years this...  \n",
       "6                                        KATE AND ...  \n",
       "11                                     IT S A WOND...  \n",
       "16                                         REAR WI...  \n",
       "21                                          REBEL ...  "
      ]
     },
     "execution_count": 118,
     "metadata": {},
     "output_type": "execute_result"
    }
   ],
   "source": [
    "df_dict['violence'].head()"
   ]
  },
  {
   "cell_type": "code",
   "execution_count": 119,
   "metadata": {},
   "outputs": [],
   "source": [
    "# Standard method for text preprocessing and splitting the data into train and test sets\n",
    "def split_data(aspect_df, test_size=0.3):\n",
    "    text_transformer = Pipeline(steps=[('preprocess', TextPreprocessor())])\n",
    "    text = aspect_df['text']\n",
    "    preproccessed_text = text_transformer.fit_transform(text)\n",
    "    return train_test_split(preproccessed_text, aspect_df['aspect_rating'],test_size=test_size)\n",
    "\n",
    "# Standard method for text preprocessing and extracting features from labels\n",
    "def divide_label_features(aspect_df):\n",
    "    text_transformer = Pipeline(steps=[('preprocess', TextPreprocessor())])\n",
    "    text = aspect_df['text']\n",
    "    preproccessed_text = text_transformer.fit_transform(text)\n",
    "    return preproccessed_text, aspect_df['aspect_rating'].tolist()\n",
    "\n",
    "# Preprocessing for single prediction run without splitting the data\n",
    "def preprocess_light(preproccessed_text, X, Y):\n",
    "    Encoder = LabelEncoder()\n",
    "\n",
    "    Y = Encoder.fit_transform(Y)\n",
    "\n",
    "    Tfidf_vect = TfidfVectorizer(max_features=2000)\n",
    "    Tfidf_vect.fit(preproccessed_text)\n",
    "\n",
    "    X_Tfidf = Tfidf_vect.transform(X)\n",
    "\n",
    "    return X_Tfidf\n",
    "\n",
    "# Using word2vec to extract features from text\n",
    "def preprocess(preproccessed_text, Train_X, Test_X, Train_Y, Test_Y):\n",
    "    Encoder = LabelEncoder()\n",
    "    Train_Y = Encoder.fit_transform(Train_Y)\n",
    "    Test_Y = Encoder.fit_transform(Test_Y)\n",
    "\n",
    "    Tfidf_vect = TfidfVectorizer(max_features=2000)\n",
    "    Tfidf_vect.fit(preproccessed_text)\n",
    "\n",
    "    Train_X_Tfidf = Tfidf_vect.transform(Train_X)\n",
    "    Test_X_Tfidf = Tfidf_vect.transform(Test_X)\n",
    "\n",
    "    return Train_X_Tfidf, Test_X_Tfidf"
   ]
  },
  {
   "cell_type": "code",
   "execution_count": 112,
   "metadata": {},
   "outputs": [
    {
     "ename": "KeyboardInterrupt",
     "evalue": "",
     "output_type": "error",
     "traceback": [
      "\u001b[0;31m---------------------------------------------------------------------------\u001b[0m",
      "\u001b[0;31mKeyboardInterrupt\u001b[0m                         Traceback (most recent call last)",
      "\u001b[1;32m/Users/leonremke/Documents/GIT_REPOS/UNI/dsta-movie-analytics/own_model/random_forest_improved_svm.ipynb Cell 8\u001b[0m in \u001b[0;36m<cell line: 9>\u001b[0;34m()\u001b[0m\n\u001b[1;32m      <a href='vscode-notebook-cell:/Users/leonremke/Documents/GIT_REPOS/UNI/dsta-movie-analytics/own_model/random_forest_improved_svm.ipynb#X10sZmlsZQ%3D%3D?line=7'>8</a>\u001b[0m \u001b[39m# Run the model for each aspect (alcohol, frightening, nudity, violence, profanity)\u001b[39;00m\n\u001b[1;32m      <a href='vscode-notebook-cell:/Users/leonremke/Documents/GIT_REPOS/UNI/dsta-movie-analytics/own_model/random_forest_improved_svm.ipynb#X10sZmlsZQ%3D%3D?line=8'>9</a>\u001b[0m \u001b[39mfor\u001b[39;00m aspect, aspect_df \u001b[39min\u001b[39;00m df_dict\u001b[39m.\u001b[39mitems():\n\u001b[0;32m---> <a href='vscode-notebook-cell:/Users/leonremke/Documents/GIT_REPOS/UNI/dsta-movie-analytics/own_model/random_forest_improved_svm.ipynb#X10sZmlsZQ%3D%3D?line=10'>11</a>\u001b[0m     Train_X, Test_X, Train_Y, Test_Y \u001b[39m=\u001b[39m split_data(aspect_df\u001b[39m=\u001b[39;49maspect_df)\n\u001b[1;32m     <a href='vscode-notebook-cell:/Users/leonremke/Documents/GIT_REPOS/UNI/dsta-movie-analytics/own_model/random_forest_improved_svm.ipynb#X10sZmlsZQ%3D%3D?line=12'>13</a>\u001b[0m     Train_X_Tfidf, Test_X_Tfidf \u001b[39m=\u001b[39m preprocess(aspect_df[\u001b[39m'\u001b[39m\u001b[39mtext\u001b[39m\u001b[39m'\u001b[39m], Train_X, Test_X, Train_Y, Test_Y)\n\u001b[1;32m     <a href='vscode-notebook-cell:/Users/leonremke/Documents/GIT_REPOS/UNI/dsta-movie-analytics/own_model/random_forest_improved_svm.ipynb#X10sZmlsZQ%3D%3D?line=14'>15</a>\u001b[0m     \u001b[39m# SVM Model:\u001b[39;00m\n",
      "\u001b[1;32m/Users/leonremke/Documents/GIT_REPOS/UNI/dsta-movie-analytics/own_model/random_forest_improved_svm.ipynb Cell 8\u001b[0m in \u001b[0;36msplit_data\u001b[0;34m(aspect_df, test_size)\u001b[0m\n\u001b[1;32m      <a href='vscode-notebook-cell:/Users/leonremke/Documents/GIT_REPOS/UNI/dsta-movie-analytics/own_model/random_forest_improved_svm.ipynb#X10sZmlsZQ%3D%3D?line=2'>3</a>\u001b[0m text_transformer \u001b[39m=\u001b[39m Pipeline(steps\u001b[39m=\u001b[39m[(\u001b[39m'\u001b[39m\u001b[39mpreprocess\u001b[39m\u001b[39m'\u001b[39m, TextPreprocessor())])\n\u001b[1;32m      <a href='vscode-notebook-cell:/Users/leonremke/Documents/GIT_REPOS/UNI/dsta-movie-analytics/own_model/random_forest_improved_svm.ipynb#X10sZmlsZQ%3D%3D?line=3'>4</a>\u001b[0m text \u001b[39m=\u001b[39m aspect_df[\u001b[39m'\u001b[39m\u001b[39mtext\u001b[39m\u001b[39m'\u001b[39m]\n\u001b[0;32m----> <a href='vscode-notebook-cell:/Users/leonremke/Documents/GIT_REPOS/UNI/dsta-movie-analytics/own_model/random_forest_improved_svm.ipynb#X10sZmlsZQ%3D%3D?line=4'>5</a>\u001b[0m preproccessed_text \u001b[39m=\u001b[39m text_transformer\u001b[39m.\u001b[39;49mfit_transform(text)\n\u001b[1;32m      <a href='vscode-notebook-cell:/Users/leonremke/Documents/GIT_REPOS/UNI/dsta-movie-analytics/own_model/random_forest_improved_svm.ipynb#X10sZmlsZQ%3D%3D?line=5'>6</a>\u001b[0m \u001b[39mreturn\u001b[39;00m train_test_split(preproccessed_text, aspect_df[\u001b[39m'\u001b[39m\u001b[39maspect_rating\u001b[39m\u001b[39m'\u001b[39m],test_size\u001b[39m=\u001b[39mtest_size)\n",
      "File \u001b[0;32m~/opt/anaconda3/envs/DSTA-Ex/lib/python3.9/site-packages/sklearn/pipeline.py:434\u001b[0m, in \u001b[0;36mPipeline.fit_transform\u001b[0;34m(self, X, y, **fit_params)\u001b[0m\n\u001b[1;32m    432\u001b[0m fit_params_last_step \u001b[39m=\u001b[39m fit_params_steps[\u001b[39mself\u001b[39m\u001b[39m.\u001b[39msteps[\u001b[39m-\u001b[39m\u001b[39m1\u001b[39m][\u001b[39m0\u001b[39m]]\n\u001b[1;32m    433\u001b[0m \u001b[39mif\u001b[39;00m \u001b[39mhasattr\u001b[39m(last_step, \u001b[39m\"\u001b[39m\u001b[39mfit_transform\u001b[39m\u001b[39m\"\u001b[39m):\n\u001b[0;32m--> 434\u001b[0m     \u001b[39mreturn\u001b[39;00m last_step\u001b[39m.\u001b[39;49mfit_transform(Xt, y, \u001b[39m*\u001b[39;49m\u001b[39m*\u001b[39;49mfit_params_last_step)\n\u001b[1;32m    435\u001b[0m \u001b[39melse\u001b[39;00m:\n\u001b[1;32m    436\u001b[0m     \u001b[39mreturn\u001b[39;00m last_step\u001b[39m.\u001b[39mfit(Xt, y, \u001b[39m*\u001b[39m\u001b[39m*\u001b[39mfit_params_last_step)\u001b[39m.\u001b[39mtransform(Xt)\n",
      "File \u001b[0;32m~/opt/anaconda3/envs/DSTA-Ex/lib/python3.9/site-packages/sklearn/base.py:852\u001b[0m, in \u001b[0;36mTransformerMixin.fit_transform\u001b[0;34m(self, X, y, **fit_params)\u001b[0m\n\u001b[1;32m    848\u001b[0m \u001b[39m# non-optimized default implementation; override when a better\u001b[39;00m\n\u001b[1;32m    849\u001b[0m \u001b[39m# method is possible for a given clustering algorithm\u001b[39;00m\n\u001b[1;32m    850\u001b[0m \u001b[39mif\u001b[39;00m y \u001b[39mis\u001b[39;00m \u001b[39mNone\u001b[39;00m:\n\u001b[1;32m    851\u001b[0m     \u001b[39m# fit method of arity 1 (unsupervised transformation)\u001b[39;00m\n\u001b[0;32m--> 852\u001b[0m     \u001b[39mreturn\u001b[39;00m \u001b[39mself\u001b[39;49m\u001b[39m.\u001b[39;49mfit(X, \u001b[39m*\u001b[39;49m\u001b[39m*\u001b[39;49mfit_params)\u001b[39m.\u001b[39;49mtransform(X)\n\u001b[1;32m    853\u001b[0m \u001b[39melse\u001b[39;00m:\n\u001b[1;32m    854\u001b[0m     \u001b[39m# fit method of arity 2 (supervised transformation)\u001b[39;00m\n\u001b[1;32m    855\u001b[0m     \u001b[39mreturn\u001b[39;00m \u001b[39mself\u001b[39m\u001b[39m.\u001b[39mfit(X, y, \u001b[39m*\u001b[39m\u001b[39m*\u001b[39mfit_params)\u001b[39m.\u001b[39mtransform(X)\n",
      "\u001b[1;32m/Users/leonremke/Documents/GIT_REPOS/UNI/dsta-movie-analytics/own_model/random_forest_improved_svm.ipynb Cell 8\u001b[0m in \u001b[0;36mTextPreprocessor.transform\u001b[0;34m(self, X, y)\u001b[0m\n\u001b[1;32m     <a href='vscode-notebook-cell:/Users/leonremke/Documents/GIT_REPOS/UNI/dsta-movie-analytics/own_model/random_forest_improved_svm.ipynb#X10sZmlsZQ%3D%3D?line=18'>19</a>\u001b[0m text \u001b[39m=\u001b[39m text\u001b[39m.\u001b[39mlower()\u001b[39m.\u001b[39mtranslate(\u001b[39mstr\u001b[39m\u001b[39m.\u001b[39mmaketrans(\u001b[39m'\u001b[39m\u001b[39m'\u001b[39m, \u001b[39m'\u001b[39m\u001b[39m'\u001b[39m, string\u001b[39m.\u001b[39mpunctuation))\n\u001b[1;32m     <a href='vscode-notebook-cell:/Users/leonremke/Documents/GIT_REPOS/UNI/dsta-movie-analytics/own_model/random_forest_improved_svm.ipynb#X10sZmlsZQ%3D%3D?line=19'>20</a>\u001b[0m \u001b[39m# Tokenize the text\u001b[39;00m\n\u001b[0;32m---> <a href='vscode-notebook-cell:/Users/leonremke/Documents/GIT_REPOS/UNI/dsta-movie-analytics/own_model/random_forest_improved_svm.ipynb#X10sZmlsZQ%3D%3D?line=20'>21</a>\u001b[0m tokens \u001b[39m=\u001b[39m nltk\u001b[39m.\u001b[39;49mword_tokenize(text)\n\u001b[1;32m     <a href='vscode-notebook-cell:/Users/leonremke/Documents/GIT_REPOS/UNI/dsta-movie-analytics/own_model/random_forest_improved_svm.ipynb#X10sZmlsZQ%3D%3D?line=21'>22</a>\u001b[0m \u001b[39m# Remove stop words and lemmatize the remaining words\u001b[39;00m\n\u001b[1;32m     <a href='vscode-notebook-cell:/Users/leonremke/Documents/GIT_REPOS/UNI/dsta-movie-analytics/own_model/random_forest_improved_svm.ipynb#X10sZmlsZQ%3D%3D?line=22'>23</a>\u001b[0m processed_tokens \u001b[39m=\u001b[39m [\u001b[39mself\u001b[39m\u001b[39m.\u001b[39mlemmatizer\u001b[39m.\u001b[39mlemmatize(token) \u001b[39mfor\u001b[39;00m token \u001b[39min\u001b[39;00m tokens \u001b[39mif\u001b[39;00m token \u001b[39mnot\u001b[39;00m \u001b[39min\u001b[39;00m \u001b[39mself\u001b[39m\u001b[39m.\u001b[39mstop_words]\n",
      "File \u001b[0;32m~/opt/anaconda3/envs/DSTA-Ex/lib/python3.9/site-packages/nltk/tokenize/__init__.py:130\u001b[0m, in \u001b[0;36mword_tokenize\u001b[0;34m(text, language, preserve_line)\u001b[0m\n\u001b[1;32m    115\u001b[0m \u001b[39m\u001b[39m\u001b[39m\"\"\"\u001b[39;00m\n\u001b[1;32m    116\u001b[0m \u001b[39mReturn a tokenized copy of *text*,\u001b[39;00m\n\u001b[1;32m    117\u001b[0m \u001b[39musing NLTK's recommended word tokenizer\u001b[39;00m\n\u001b[0;32m   (...)\u001b[0m\n\u001b[1;32m    127\u001b[0m \u001b[39m:type preserve_line: bool\u001b[39;00m\n\u001b[1;32m    128\u001b[0m \u001b[39m\"\"\"\u001b[39;00m\n\u001b[1;32m    129\u001b[0m sentences \u001b[39m=\u001b[39m [text] \u001b[39mif\u001b[39;00m preserve_line \u001b[39melse\u001b[39;00m sent_tokenize(text, language)\n\u001b[0;32m--> 130\u001b[0m \u001b[39mreturn\u001b[39;00m [\n\u001b[1;32m    131\u001b[0m     token \u001b[39mfor\u001b[39;00m sent \u001b[39min\u001b[39;00m sentences \u001b[39mfor\u001b[39;00m token \u001b[39min\u001b[39;00m _treebank_word_tokenizer\u001b[39m.\u001b[39mtokenize(sent)\n\u001b[1;32m    132\u001b[0m ]\n",
      "File \u001b[0;32m~/opt/anaconda3/envs/DSTA-Ex/lib/python3.9/site-packages/nltk/tokenize/__init__.py:131\u001b[0m, in \u001b[0;36m<listcomp>\u001b[0;34m(.0)\u001b[0m\n\u001b[1;32m    115\u001b[0m \u001b[39m\u001b[39m\u001b[39m\"\"\"\u001b[39;00m\n\u001b[1;32m    116\u001b[0m \u001b[39mReturn a tokenized copy of *text*,\u001b[39;00m\n\u001b[1;32m    117\u001b[0m \u001b[39musing NLTK's recommended word tokenizer\u001b[39;00m\n\u001b[0;32m   (...)\u001b[0m\n\u001b[1;32m    127\u001b[0m \u001b[39m:type preserve_line: bool\u001b[39;00m\n\u001b[1;32m    128\u001b[0m \u001b[39m\"\"\"\u001b[39;00m\n\u001b[1;32m    129\u001b[0m sentences \u001b[39m=\u001b[39m [text] \u001b[39mif\u001b[39;00m preserve_line \u001b[39melse\u001b[39;00m sent_tokenize(text, language)\n\u001b[1;32m    130\u001b[0m \u001b[39mreturn\u001b[39;00m [\n\u001b[0;32m--> 131\u001b[0m     token \u001b[39mfor\u001b[39;00m sent \u001b[39min\u001b[39;00m sentences \u001b[39mfor\u001b[39;00m token \u001b[39min\u001b[39;00m _treebank_word_tokenizer\u001b[39m.\u001b[39;49mtokenize(sent)\n\u001b[1;32m    132\u001b[0m ]\n",
      "File \u001b[0;32m~/opt/anaconda3/envs/DSTA-Ex/lib/python3.9/site-packages/nltk/tokenize/destructive.py:181\u001b[0m, in \u001b[0;36mNLTKWordTokenizer.tokenize\u001b[0;34m(self, text, convert_parentheses, return_str)\u001b[0m\n\u001b[1;32m    178\u001b[0m     text \u001b[39m=\u001b[39m regexp\u001b[39m.\u001b[39msub(substitution, text)\n\u001b[1;32m    180\u001b[0m \u001b[39mfor\u001b[39;00m regexp \u001b[39min\u001b[39;00m \u001b[39mself\u001b[39m\u001b[39m.\u001b[39mCONTRACTIONS2:\n\u001b[0;32m--> 181\u001b[0m     text \u001b[39m=\u001b[39m regexp\u001b[39m.\u001b[39;49msub(\u001b[39mr\u001b[39;49m\u001b[39m\"\u001b[39;49m\u001b[39m \u001b[39;49m\u001b[39m\\\u001b[39;49m\u001b[39m1 \u001b[39;49m\u001b[39m\\\u001b[39;49m\u001b[39m2 \u001b[39;49m\u001b[39m\"\u001b[39;49m, text)\n\u001b[1;32m    182\u001b[0m \u001b[39mfor\u001b[39;00m regexp \u001b[39min\u001b[39;00m \u001b[39mself\u001b[39m\u001b[39m.\u001b[39mCONTRACTIONS3:\n\u001b[1;32m    183\u001b[0m     text \u001b[39m=\u001b[39m regexp\u001b[39m.\u001b[39msub(\u001b[39mr\u001b[39m\u001b[39m\"\u001b[39m\u001b[39m \u001b[39m\u001b[39m\\\u001b[39m\u001b[39m1 \u001b[39m\u001b[39m\\\u001b[39m\u001b[39m2 \u001b[39m\u001b[39m\"\u001b[39m, text)\n",
      "\u001b[0;31mKeyboardInterrupt\u001b[0m: "
     ]
    }
   ],
   "source": [
    "evaluation_dict_rf = {}\n",
    "evaluation_dict_svm = {}\n",
    "accuracy_dict_rf = {}\n",
    "accuracy_dict_svm = {}\n",
    "macro_f1_dict_rf = {}\n",
    "macro_f1_dict_svm = {}\n",
    "\n",
    "# Run the model for each aspect (alcohol, frightening, nudity, violence, profanity)\n",
    "for aspect, aspect_df in df_dict.items():\n",
    "\n",
    "    Train_X, Test_X, Train_Y, Test_Y = split_data(aspect_df=aspect_df)\n",
    "\n",
    "    Train_X_Tfidf, Test_X_Tfidf = preprocess(aspect_df['text'], Train_X, Test_X, Train_Y, Test_Y)\n",
    "\n",
    "    # SVM Model:\n",
    "    SVM = SVC(C=1.0, kernel='linear', degree=3, gamma='auto', random_state=42)\n",
    "    SVM.fit(Train_X_Tfidf,Train_Y)\n",
    "\n",
    "    predictions_SVM = SVM.predict(Test_X_Tfidf)\n",
    "    print(\"SVM Accuracy Score of\", aspect, \":\", accuracy_score(predictions_SVM, Test_Y)*100,\"%\")\n",
    "    \n",
    "    # Store test results in dictionary\n",
    "    evaluation_dict_svm[aspect] = classification_report(Test_Y, predictions_SVM, output_dict=True)\n",
    "    accuracy_dict_svm[aspect] = accuracy_score(Test_Y, predictions_SVM)\n",
    "    macro_f1_dict_svm[aspect] = f1_score(Test_Y, predictions_SVM, average='macro')\n",
    "\n",
    "    # Store model in file\n",
    "    joblib.dump(SVM, f'svm_classifier_{aspect}.joblib')\n",
    "\n",
    "\n",
    "\n",
    "    # Random Forest Model:\n",
    "    rf_classifier = RandomForestClassifier(max_depth=3, max_features=2000, random_state=42)\n",
    "    rf_classifier.fit(Train_X_Tfidf, Train_Y)\n",
    "    y_pred = rf_classifier.predict(Test_X_Tfidf)\n",
    "\n",
    "    # Store model in file\n",
    "    joblib.dump(rf_classifier, f'rf_classifier_{aspect}.joblib')\n",
    "\n",
    "    # Store test results in evaluation_dict\n",
    "    evaluation_dict_rf[aspect] = classification_report(Test_Y, y_pred, output_dict=True)\n",
    "    accuracy_dict_rf[aspect] = accuracy_score(Test_Y, y_pred)\n",
    "    macro_f1_dict_rf[aspect] = f1_score(Test_Y, y_pred, average='macro')\n",
    "\n",
    "    print(\"Random Forest Accuracy Score of\", aspect, \":\", accuracy_score(y_pred, Test_Y)*100,\"%\")"
   ]
  },
  {
   "cell_type": "code",
   "execution_count": 124,
   "metadata": {},
   "outputs": [
    {
     "name": "stdout",
     "output_type": "stream",
     "text": [
      "SVM Accuracy Score of alcohol : 63.888888888888886 %\n",
      "Random Forest Accuracy Score of alcohol : 68.05555555555556 %\n",
      "SVM Accuracy Score of frightening : 38.46153846153847 %\n",
      "Random Forest Accuracy Score of frightening : 46.85314685314685 %\n",
      "SVM Accuracy Score of nudity : 43.75 %\n",
      "Random Forest Accuracy Score of nudity : 46.52777777777778 %\n",
      "SVM Accuracy Score of profanity : 37.5 %\n",
      "Random Forest Accuracy Score of profanity : 65.27777777777779 %\n",
      "SVM Accuracy Score of violence : 35.41666666666667 %\n",
      "Random Forest Accuracy Score of violence : 51.388888888888886 %\n"
     ]
    }
   ],
   "source": [
    "evaluation_dict_rf = {}\n",
    "evaluation_dict_svm = {}\n",
    "accuracy_dict_rf = {}\n",
    "accuracy_dict_svm = {}\n",
    "macro_f1_dict_rf = {}\n",
    "macro_f1_dict_svm = {}\n",
    "\n",
    "# Model training and test run as monolith (SVM and Random Forest model from SKLearn)\n",
    "for aspect, aspect_df in df_dict.items():\n",
    "    # aspect_df.drop(columns=['votes none', 'votes mild', 'votes moderate', 'votes severe', 'total_votes'], inplace=True)\n",
    "    text_transformer = Pipeline(steps=[('preprocess', TextPreprocessor())])\n",
    "    text = aspect_df['text']\n",
    "    preproccessed_text = text_transformer.fit_transform(text)\n",
    "    Train_X, Test_X, Train_Y, Test_Y = train_test_split(preproccessed_text, aspect_df['aspect_rating'],test_size=0.3)\n",
    "\n",
    "    Encoder = LabelEncoder()\n",
    "    Train_Y = Encoder.fit_transform(Train_Y)\n",
    "    Test_Y = Encoder.fit_transform(Test_Y)\n",
    "\n",
    "    Tfidf_vect = TfidfVectorizer(max_features=2000)\n",
    "    Tfidf_vect.fit(preproccessed_text)\n",
    "\n",
    "    Train_X_Tfidf = Tfidf_vect.transform(Train_X)\n",
    "    Test_X_Tfidf = Tfidf_vect.transform(Test_X)\n",
    "\n",
    "    SVM = SVC(C=1.0, kernel='linear', degree=3, gamma='auto', random_state=42)\n",
    "    SVM.fit(Train_X_Tfidf,Train_Y)\n",
    "\n",
    "    predictions_SVM = SVM.predict(Test_X_Tfidf)\n",
    "    print(\"SVM Accuracy Score of\", aspect, \":\", accuracy_score(predictions_SVM, Test_Y)*100,\"%\")\n",
    "\n",
    "    rf_classifier = RandomForestClassifier(max_depth=3, max_features=2000, random_state=42)\n",
    "    rf_classifier.fit(Train_X_Tfidf, Train_Y)\n",
    "    y_pred = rf_classifier.predict(Test_X_Tfidf)\n",
    "\n",
    "    # Store test results in dictionary\n",
    "    # evaluation_dict_svm[aspect] = classification_report(Test_Y, predictions_SVM, output_dict=True)\n",
    "    accuracy_dict_svm[aspect] = accuracy_score(Test_Y, predictions_SVM)\n",
    "    macro_f1_dict_svm[aspect] = f1_score(Test_Y, predictions_SVM, average='macro')\n",
    "\n",
    "    # Store test results in evaluation_dict\n",
    "    # evaluation_dict_rf[aspect] = classification_report(Test_Y, y_pred, output_dict=True)\n",
    "    accuracy_dict_rf[aspect] = accuracy_score(Test_Y, y_pred)\n",
    "    macro_f1_dict_rf[aspect] = f1_score(Test_Y, y_pred, average='macro')\n",
    "\n",
    "    joblib.dump(rf_classifier, f'rf_classifier_{aspect}.joblib')\n",
    "    joblib.dump(SVM, f'svm_classifier_{aspect}.joblib')\n",
    "\n",
    "    accuracy = accuracy_score(Test_Y, y_pred)\n",
    "    print(\"Random Forest Accuracy Score of\", aspect, \":\", accuracy*100,\"%\")"
   ]
  },
  {
   "cell_type": "code",
   "execution_count": null,
   "metadata": {},
   "outputs": [
    {
     "name": "stdout",
     "output_type": "stream",
     "text": [
      "Predicting model for aspect: alcohol\n",
      "Predicting model for aspect: frightening\n",
      "Predicting model for aspect: nudity\n",
      "Predicting model for aspect: profanity\n",
      "Predicting model for aspect: violence\n"
     ]
    }
   ],
   "source": [
    "# Predict on whole dataset for displaying in frontend\n",
    "for aspect, aspect_df in df_dict.items():\n",
    "    rf_classifier = joblib.load(f'./trained_models/rf_classifier_{aspect}.joblib')\n",
    "\n",
    "    X, Y = divide_label_features(aspect_df=aspect_df)\n",
    "    X_Tfidf = preprocess_light(aspect_df['text'], X, Y)\n",
    "\n",
    "    try:\n",
    "        print('Predicting model for aspect: ' + aspect)\n",
    "        y_pred = rf_classifier.predict(X_Tfidf)\n",
    "        df_dict[aspect][f'prediction_{aspect}'] = y_pred\n",
    "    except Exception as e:\n",
    "        print('Error on predicting model for aspect: ' + aspect + ' Error: ' + str(e))\n",
    "        print(e)\n",
    "    "
   ]
  },
  {
   "cell_type": "code",
   "execution_count": null,
   "metadata": {},
   "outputs": [
    {
     "data": {
      "text/html": [
       "<div>\n",
       "<style scoped>\n",
       "    .dataframe tbody tr th:only-of-type {\n",
       "        vertical-align: middle;\n",
       "    }\n",
       "\n",
       "    .dataframe tbody tr th {\n",
       "        vertical-align: top;\n",
       "    }\n",
       "\n",
       "    .dataframe thead th {\n",
       "        text-align: right;\n",
       "    }\n",
       "</style>\n",
       "<table border=\"1\" class=\"dataframe\">\n",
       "  <thead>\n",
       "    <tr style=\"text-align: right;\">\n",
       "      <th></th>\n",
       "      <th>imdb_id</th>\n",
       "      <th>prediction_alcohol</th>\n",
       "      <th>prediction_frightening</th>\n",
       "      <th>prediction_nudity</th>\n",
       "      <th>prediction_profanity</th>\n",
       "      <th>prediction_violence</th>\n",
       "    </tr>\n",
       "  </thead>\n",
       "  <tbody>\n",
       "    <tr>\n",
       "      <th>0</th>\n",
       "      <td>tt0032138</td>\n",
       "      <td>1</td>\n",
       "      <td>2</td>\n",
       "      <td>3</td>\n",
       "      <td>1</td>\n",
       "      <td>1</td>\n",
       "    </tr>\n",
       "    <tr>\n",
       "      <th>1</th>\n",
       "      <td>tt0035423</td>\n",
       "      <td>1</td>\n",
       "      <td>2</td>\n",
       "      <td>1</td>\n",
       "      <td>1</td>\n",
       "      <td>1</td>\n",
       "    </tr>\n",
       "    <tr>\n",
       "      <th>2</th>\n",
       "      <td>tt0038650</td>\n",
       "      <td>1</td>\n",
       "      <td>2</td>\n",
       "      <td>1</td>\n",
       "      <td>2</td>\n",
       "      <td>1</td>\n",
       "    </tr>\n",
       "    <tr>\n",
       "      <th>3</th>\n",
       "      <td>tt0047396</td>\n",
       "      <td>1</td>\n",
       "      <td>2</td>\n",
       "      <td>1</td>\n",
       "      <td>1</td>\n",
       "      <td>1</td>\n",
       "    </tr>\n",
       "    <tr>\n",
       "      <th>4</th>\n",
       "      <td>tt0048545</td>\n",
       "      <td>1</td>\n",
       "      <td>2</td>\n",
       "      <td>1</td>\n",
       "      <td>1</td>\n",
       "      <td>2</td>\n",
       "    </tr>\n",
       "  </tbody>\n",
       "</table>\n",
       "</div>"
      ],
      "text/plain": [
       "     imdb_id  prediction_alcohol  prediction_frightening  prediction_nudity  \\\n",
       "0  tt0032138                   1                       2                  3   \n",
       "1  tt0035423                   1                       2                  1   \n",
       "2  tt0038650                   1                       2                  1   \n",
       "3  tt0047396                   1                       2                  1   \n",
       "4  tt0048545                   1                       2                  1   \n",
       "\n",
       "   prediction_profanity  prediction_violence  \n",
       "0                     1                    1  \n",
       "1                     1                    1  \n",
       "2                     2                    1  \n",
       "3                     1                    1  \n",
       "4                     1                    2  "
      ]
     },
     "execution_count": 71,
     "metadata": {},
     "output_type": "execute_result"
    }
   ],
   "source": [
    "#Extracting raw predictions as preparation for elastic search\n",
    "from functools import reduce\n",
    "\n",
    "df_list = list(df_dict.values())\n",
    "\n",
    "# Define the common columns on which the data frames will be merged\n",
    "# for df in df_list:\n",
    "#     # df.drop(columns=[\"text\"], inplace=True)\n",
    "#     df.drop(columns=[\"aspect_rating\"], inplace=True)\n",
    "# # Apply the merge function to all data frames in the list\n",
    "merged_df = reduce(lambda left, right: pd.merge(left, right, how=\"inner\", on=\"imdb_id\"), df_list)\n",
    "merged_df.head()"
   ]
  },
  {
   "cell_type": "code",
   "execution_count": null,
   "metadata": {},
   "outputs": [],
   "source": [
    "merged_df.to_csv(\"../data/results_models/rf_prediction.csv\", index=False)"
   ]
  },
  {
   "attachments": {},
   "cell_type": "markdown",
   "metadata": {},
   "source": [
    "# Model evaluation"
   ]
  },
  {
   "attachments": {},
   "cell_type": "markdown",
   "metadata": {},
   "source": [
    "## Setup plotting"
   ]
  },
  {
   "attachments": {},
   "cell_type": "markdown",
   "metadata": {},
   "source": [
    "#### Accuracy"
   ]
  },
  {
   "cell_type": "code",
   "execution_count": 125,
   "metadata": {},
   "outputs": [],
   "source": [
    "import matplotlib.pyplot as plt\n",
    "import numpy as np\n",
    "\n",
    "def plot_metric(metric = 'Accuracy', joined_dict = {}):\n",
    "    # Take accuracy values as scores\n",
    "    rf_scores = [x[0] for x in joined_dict.values()]\n",
    "    svm_scores = [x[1] for x in joined_dict.values()]\n",
    "\n",
    "    x = np.arange(len(labels))\n",
    "    width = 0.35\n",
    "\n",
    "    fig, ax = plt.subplots()\n",
    "    rects1 = ax.bar(x - width/2, rf_scores, width, label='SVM' )\n",
    "    rects2 = ax.bar(x + width/2, svm_scores, width, label='Random Forest')\n",
    "\n",
    "    ax.set_ylabel(metric)\n",
    "    ax.set_title(f'{metric} of Random Forest vs SVM')\n",
    "    ax.set_xticks(x)\n",
    "    ax.set_xticklabels(labels)\n",
    "    ax.legend()\n",
    "\n",
    "    fig.tight_layout()\n",
    "    plt.savefig(f'../assets/{metric}_svm_rf.png', dpi=300)\n",
    "    plt.show()"
   ]
  },
  {
   "cell_type": "code",
   "execution_count": 126,
   "metadata": {},
   "outputs": [
    {
     "name": "stdout",
     "output_type": "stream",
     "text": [
      "{'violence': [0.3541666666666667, 0.5138888888888888], 'nudity': [0.4375, 0.4652777777777778], 'alcohol': [0.6388888888888888, 0.6805555555555556], 'profanity': [0.375, 0.6527777777777778], 'frightening': [0.38461538461538464, 0.46853146853146854]}\n"
     ]
    }
   ],
   "source": [
    "accuracy_dict = {}\n",
    "for key in accuracy_dict_svm.keys() | accuracy_dict_rf.keys():\n",
    "    accuracy_dict[key] = [accuracy_dict_svm.get(key), accuracy_dict_rf.get(key)]\n",
    "print(accuracy_dict)"
   ]
  },
  {
   "cell_type": "code",
   "execution_count": 127,
   "metadata": {},
   "outputs": [
    {
     "data": {
      "image/png": "[encoded data removed]",
      "text/plain": [
       "<Figure size 432x288 with 1 Axes>"
      ]
     },
     "metadata": {
      "needs_background": "light"
     },
     "output_type": "display_data"
    }
   ],
   "source": [
    "# Take accuracy keys as labels (aspects)\n",
    "labels = list(accuracy_dict.keys())\n",
    "plot_metric(metric = 'Accuracy', joined_dict = accuracy_dict)\n"
   ]
  },
  {
   "attachments": {},
   "cell_type": "markdown",
   "metadata": {},
   "source": [
    "#### macro F1 Scores"
   ]
  },
  {
   "cell_type": "code",
   "execution_count": 128,
   "metadata": {},
   "outputs": [],
   "source": [
    "macro_f1_score = {}\n",
    "for key in macro_f1_dict_rf.keys() | macro_f1_dict_svm.keys():\n",
    "    macro_f1_score[key] = [macro_f1_dict_svm.get(key), macro_f1_dict_rf.get(key)]"
   ]
  },
  {
   "cell_type": "code",
   "execution_count": 129,
   "metadata": {},
   "outputs": [
    {
     "data": {
      "image/png": "[encoded data removed]",
      "text/plain": [
       "<Figure size 432x288 with 1 Axes>"
      ]
     },
     "metadata": {
      "needs_background": "light"
     },
     "output_type": "display_data"
    }
   ],
   "source": [
    "# Take macro scores since data is unbalanced\n",
    "labels = list(macro_f1_score.keys())\n",
    "plot_metric(metric = 'Macro F1 Scores', joined_dict = macro_f1_score)\n"
   ]
  },
  {
   "attachments": {},
   "cell_type": "markdown",
   "metadata": {},
   "source": [
    "#### Comparison to paper"
   ]
  },
  {
   "cell_type": "code",
   "execution_count": 130,
   "metadata": {},
   "outputs": [],
   "source": [
    "# Plot compare 3 models\n",
    "import matplotlib.pyplot as plt\n",
    "import numpy as np\n",
    "\n",
    "def plot_metric(metric = 'Accuracy', joined_dict = {}):\n",
    "    # Take accuracy values as scores\n",
    "    rf_scores = [x[0] for x in joined_dict.values()]\n",
    "    svm_scores = [x[1] for x in joined_dict.values()]\n",
    "    rnn_scores = [x[2] for x in joined_dict.values()]\n",
    "\n",
    "    x = np.arange(len(labels))\n",
    "    width = 0.15\n",
    "\n",
    "    fig, ax = plt.subplots()\n",
    "    rects1 = ax.bar(x - width, rf_scores, width, label='SVM' )\n",
    "    rects2 = ax.bar(x, svm_scores, width, label='Random Forest')\n",
    "    rects3 = ax.bar(x + width, rnn_scores, width, label='RNN-Trans')\n",
    "\n",
    "    ax.set_ylabel(metric)\n",
    "    ax.set_title(f'{metric} of Random Forest vs SVM vs RNN-Trans')\n",
    "    ax.set_xticks(x)\n",
    "    ax.set_xticklabels(labels)\n",
    "    ax.legend()\n",
    "\n",
    "    fig.tight_layout()\n",
    "    plt.savefig(f'../assets/{metric}_svm_rf_rnn.png', dpi=300)\n",
    "    plt.show()"
   ]
  },
  {
   "cell_type": "code",
   "execution_count": 131,
   "metadata": {},
   "outputs": [
    {
     "name": "stdout",
     "output_type": "stream",
     "text": [
      "{'violence': [0.23129541671741163, 0.40506095152096616, 0.5572], 'nudity': [0.3073728446111298, 0.2647058823529411, 0.4476], 'alcohol': [0.19491525423728812, 0.2412923561859732, 0.4239], 'profanity': [0.34820566815828724, 0.5036075036075036, 0.6232], 'frightening': [0.23599983565471055, 0.3661474056310568, 0.5095]}\n"
     ]
    }
   ],
   "source": [
    "paper_f1_score = {\n",
    "    \"nudity\": 0.4476,\n",
    "    \"violence\":0.5572,\n",
    "    \"profanity\": 0.6232,\n",
    "    \"alcohol\": 0.4239,\n",
    "    \"frightening\": 0.5095\n",
    "}\n",
    "macro_f1_score = {}\n",
    "for key in macro_f1_dict_rf.keys() | macro_f1_dict_svm.keys() | paper_f1_score.keys():\n",
    "    macro_f1_score[key] = [macro_f1_dict_svm.get(key), macro_f1_dict_rf.get(key), paper_f1_score.get(key)]\n",
    "\n",
    "print(macro_f1_score)"
   ]
  },
  {
   "cell_type": "code",
   "execution_count": 132,
   "metadata": {},
   "outputs": [
    {
     "data": {
      "image/png": "[encoded data removed]",
      "text/plain": [
       "<Figure size 432x288 with 1 Axes>"
      ]
     },
     "metadata": {
      "needs_background": "light"
     },
     "output_type": "display_data"
    }
   ],
   "source": [
    "# Take macro scores since data is unbalanced\n",
    "labels = list(macro_f1_score.keys())\n",
    "plot_metric(metric = 'Macro F1 Scores', joined_dict = macro_f1_score)\n"
   ]
  },
  {
   "cell_type": "code",
   "execution_count": null,
   "metadata": {},
   "outputs": [],
   "source": []
  }
 ],
 "metadata": {
  "kernelspec": {
   "display_name": "DSTA-Ex",
   "language": "python",
   "name": "python3"
  },
  "language_info": {
   "codemirror_mode": {
    "name": "ipython",
    "version": 3
   },
   "file_extension": ".py",
   "mimetype": "text/x-python",
   "name": "python",
   "nbconvert_exporter": "python",
   "pygments_lexer": "ipython3",
   "version": "3.9.13"
  },
  "orig_nbformat": 4
 },
 "nbformat": 4,
 "nbformat_minor": 2
}
