{
 "cells": [
  {
   "attachments": {},
   "cell_type": "markdown",
   "metadata": {},
   "source": [
    "# Upload datasets to elastisearch\n",
    "\n",
    "#### Bringing mapped baseline and movie scripts into a valid json format and push them to elasticsearch running on server.\n",
    "\n",
    "1. Map baseline to movie scripts"
   ]
  },
  {
   "cell_type": "code",
   "execution_count": 16,
   "metadata": {},
   "outputs": [
    {
     "name": "stderr",
     "output_type": "stream",
     "text": [
      "bash: line 1: /Users/leonremke/.bashrc: No such file or directory\n"
     ]
    },
    {
     "name": "stdout",
     "output_type": "stream",
     "text": [
      "Requirement already satisfied: elasticsearch7 in /Users/leonremke/opt/anaconda3/envs/DSTA-Ex/lib/python3.9/site-packages (from -r requirements.txt (line 1)) (7.17.8)\n",
      "Requirement already satisfied: pandas in /Users/leonremke/opt/anaconda3/envs/DSTA-Ex/lib/python3.9/site-packages (from -r requirements.txt (line 2)) (1.5.2)\n",
      "Requirement already satisfied: numpy in /Users/leonremke/opt/anaconda3/envs/DSTA-Ex/lib/python3.9/site-packages (from -r requirements.txt (line 3)) (1.22.4)\n",
      "Requirement already satisfied: matplotlib in /Users/leonremke/opt/anaconda3/envs/DSTA-Ex/lib/python3.9/site-packages (from -r requirements.txt (line 4)) (3.6.2)\n",
      "Requirement already satisfied: spacy in /Users/leonremke/opt/anaconda3/envs/DSTA-Ex/lib/python3.9/site-packages (from -r requirements.txt (line 5)) (3.4.3)\n",
      "Requirement already satisfied: wordcloud in /Users/leonremke/opt/anaconda3/envs/DSTA-Ex/lib/python3.9/site-packages (from -r requirements.txt (line 6)) (1.8.2.2)\n",
      "Requirement already satisfied: sklearn in /Users/leonremke/opt/anaconda3/envs/DSTA-Ex/lib/python3.9/site-packages (from -r requirements.txt (line 7)) (0.0.post1)\n",
      "Requirement already satisfied: urllib3<2,>=1.21.1 in /Users/leonremke/opt/anaconda3/envs/DSTA-Ex/lib/python3.9/site-packages (from elasticsearch7->-r requirements.txt (line 1)) (1.26.11)\n",
      "Requirement already satisfied: certifi in /Users/leonremke/opt/anaconda3/envs/DSTA-Ex/lib/python3.9/site-packages (from elasticsearch7->-r requirements.txt (line 1)) (2022.6.15)\n",
      "Requirement already satisfied: python-dateutil>=2.8.1 in /Users/leonremke/opt/anaconda3/envs/DSTA-Ex/lib/python3.9/site-packages (from pandas->-r requirements.txt (line 2)) (2.8.2)\n",
      "Requirement already satisfied: pytz>=2020.1 in /Users/leonremke/opt/anaconda3/envs/DSTA-Ex/lib/python3.9/site-packages (from pandas->-r requirements.txt (line 2)) (2022.6)\n",
      "Requirement already satisfied: contourpy>=1.0.1 in /Users/leonremke/opt/anaconda3/envs/DSTA-Ex/lib/python3.9/site-packages (from matplotlib->-r requirements.txt (line 4)) (1.0.6)\n",
      "Requirement already satisfied: cycler>=0.10 in /Users/leonremke/opt/anaconda3/envs/DSTA-Ex/lib/python3.9/site-packages (from matplotlib->-r requirements.txt (line 4)) (0.11.0)\n",
      "Requirement already satisfied: kiwisolver>=1.0.1 in /Users/leonremke/opt/anaconda3/envs/DSTA-Ex/lib/python3.9/site-packages (from matplotlib->-r requirements.txt (line 4)) (1.4.4)\n",
      "Requirement already satisfied: packaging>=20.0 in /Users/leonremke/opt/anaconda3/envs/DSTA-Ex/lib/python3.9/site-packages (from matplotlib->-r requirements.txt (line 4)) (21.3)\n",
      "Requirement already satisfied: pillow>=6.2.0 in /Users/leonremke/opt/anaconda3/envs/DSTA-Ex/lib/python3.9/site-packages (from matplotlib->-r requirements.txt (line 4)) (9.3.0)\n",
      "Requirement already satisfied: fonttools>=4.22.0 in /Users/leonremke/opt/anaconda3/envs/DSTA-Ex/lib/python3.9/site-packages (from matplotlib->-r requirements.txt (line 4)) (4.38.0)\n",
      "Requirement already satisfied: pyparsing>=2.2.1 in /Users/leonremke/opt/anaconda3/envs/DSTA-Ex/lib/python3.9/site-packages (from matplotlib->-r requirements.txt (line 4)) (3.0.4)\n",
      "Requirement already satisfied: pydantic!=1.8,!=1.8.1,<1.11.0,>=1.7.4 in /Users/leonremke/opt/anaconda3/envs/DSTA-Ex/lib/python3.9/site-packages (from spacy->-r requirements.txt (line 5)) (1.10.2)\n",
      "Requirement already satisfied: langcodes<4.0.0,>=3.2.0 in /Users/leonremke/opt/anaconda3/envs/DSTA-Ex/lib/python3.9/site-packages (from spacy->-r requirements.txt (line 5)) (3.3.0)\n",
      "Requirement already satisfied: preshed<3.1.0,>=3.0.2 in /Users/leonremke/opt/anaconda3/envs/DSTA-Ex/lib/python3.9/site-packages (from spacy->-r requirements.txt (line 5)) (3.0.8)\n",
      "Requirement already satisfied: thinc<8.2.0,>=8.1.0 in /Users/leonremke/opt/anaconda3/envs/DSTA-Ex/lib/python3.9/site-packages (from spacy->-r requirements.txt (line 5)) (8.1.5)\n",
      "Requirement already satisfied: wasabi<1.1.0,>=0.9.1 in /Users/leonremke/opt/anaconda3/envs/DSTA-Ex/lib/python3.9/site-packages (from spacy->-r requirements.txt (line 5)) (0.10.1)\n",
      "Requirement already satisfied: pathy>=0.3.5 in /Users/leonremke/opt/anaconda3/envs/DSTA-Ex/lib/python3.9/site-packages (from spacy->-r requirements.txt (line 5)) (0.10.0)\n",
      "Requirement already satisfied: requests<3.0.0,>=2.13.0 in /Users/leonremke/opt/anaconda3/envs/DSTA-Ex/lib/python3.9/site-packages (from spacy->-r requirements.txt (line 5)) (2.28.1)\n",
      "Requirement already satisfied: catalogue<2.1.0,>=2.0.6 in /Users/leonremke/opt/anaconda3/envs/DSTA-Ex/lib/python3.9/site-packages (from spacy->-r requirements.txt (line 5)) (2.0.8)\n",
      "Requirement already satisfied: spacy-legacy<3.1.0,>=3.0.10 in /Users/leonremke/opt/anaconda3/envs/DSTA-Ex/lib/python3.9/site-packages (from spacy->-r requirements.txt (line 5)) (3.0.10)\n",
      "Requirement already satisfied: tqdm<5.0.0,>=4.38.0 in /Users/leonremke/opt/anaconda3/envs/DSTA-Ex/lib/python3.9/site-packages (from spacy->-r requirements.txt (line 5)) (4.64.1)\n",
      "Requirement already satisfied: murmurhash<1.1.0,>=0.28.0 in /Users/leonremke/opt/anaconda3/envs/DSTA-Ex/lib/python3.9/site-packages (from spacy->-r requirements.txt (line 5)) (1.0.9)\n",
      "Requirement already satisfied: cymem<2.1.0,>=2.0.2 in /Users/leonremke/opt/anaconda3/envs/DSTA-Ex/lib/python3.9/site-packages (from spacy->-r requirements.txt (line 5)) (2.0.7)\n",
      "Requirement already satisfied: setuptools in /Users/leonremke/opt/anaconda3/envs/DSTA-Ex/lib/python3.9/site-packages (from spacy->-r requirements.txt (line 5)) (65.5.0)\n",
      "Requirement already satisfied: spacy-loggers<2.0.0,>=1.0.0 in /Users/leonremke/opt/anaconda3/envs/DSTA-Ex/lib/python3.9/site-packages (from spacy->-r requirements.txt (line 5)) (1.0.3)\n",
      "Requirement already satisfied: jinja2 in /Users/leonremke/opt/anaconda3/envs/DSTA-Ex/lib/python3.9/site-packages (from spacy->-r requirements.txt (line 5)) (3.0.3)\n",
      "Requirement already satisfied: srsly<3.0.0,>=2.4.3 in /Users/leonremke/opt/anaconda3/envs/DSTA-Ex/lib/python3.9/site-packages (from spacy->-r requirements.txt (line 5)) (2.4.5)\n",
      "Requirement already satisfied: typer<0.8.0,>=0.3.0 in /Users/leonremke/opt/anaconda3/envs/DSTA-Ex/lib/python3.9/site-packages (from spacy->-r requirements.txt (line 5)) (0.7.0)\n",
      "Requirement already satisfied: smart-open<6.0.0,>=5.2.1 in /Users/leonremke/opt/anaconda3/envs/DSTA-Ex/lib/python3.9/site-packages (from pathy>=0.3.5->spacy->-r requirements.txt (line 5)) (5.2.1)\n",
      "Requirement already satisfied: typing-extensions>=4.1.0 in /Users/leonremke/opt/anaconda3/envs/DSTA-Ex/lib/python3.9/site-packages (from pydantic!=1.8,!=1.8.1,<1.11.0,>=1.7.4->spacy->-r requirements.txt (line 5)) (4.1.1)\n",
      "Requirement already satisfied: six>=1.5 in /Users/leonremke/opt/anaconda3/envs/DSTA-Ex/lib/python3.9/site-packages (from python-dateutil>=2.8.1->pandas->-r requirements.txt (line 2)) (1.16.0)\n",
      "Requirement already satisfied: charset-normalizer<3,>=2 in /Users/leonremke/opt/anaconda3/envs/DSTA-Ex/lib/python3.9/site-packages (from requests<3.0.0,>=2.13.0->spacy->-r requirements.txt (line 5)) (2.1.1)\n",
      "Requirement already satisfied: idna<4,>=2.5 in /Users/leonremke/opt/anaconda3/envs/DSTA-Ex/lib/python3.9/site-packages (from requests<3.0.0,>=2.13.0->spacy->-r requirements.txt (line 5)) (3.4)\n",
      "Requirement already satisfied: blis<0.8.0,>=0.7.8 in /Users/leonremke/opt/anaconda3/envs/DSTA-Ex/lib/python3.9/site-packages (from thinc<8.2.0,>=8.1.0->spacy->-r requirements.txt (line 5)) (0.7.9)\n",
      "Requirement already satisfied: confection<1.0.0,>=0.0.1 in /Users/leonremke/opt/anaconda3/envs/DSTA-Ex/lib/python3.9/site-packages (from thinc<8.2.0,>=8.1.0->spacy->-r requirements.txt (line 5)) (0.0.3)\n",
      "Requirement already satisfied: click<9.0.0,>=7.1.1 in /Users/leonremke/opt/anaconda3/envs/DSTA-Ex/lib/python3.9/site-packages (from typer<0.8.0,>=0.3.0->spacy->-r requirements.txt (line 5)) (8.1.3)\n",
      "Requirement already satisfied: MarkupSafe>=2.0 in /Users/leonremke/opt/anaconda3/envs/DSTA-Ex/lib/python3.9/site-packages (from jinja2->spacy->-r requirements.txt (line 5)) (2.1.1)\n"
     ]
    }
   ],
   "source": [
    "%%bash\n",
    ". ~/.bashrc\n",
    "python3 -m pip install -r requirements.txt\n",
    "# Install necessary packages"
   ]
  },
  {
   "cell_type": "code",
   "execution_count": 17,
   "metadata": {},
   "outputs": [],
   "source": [
    "# index key for further queries\n",
    "index = \"raw_movies\"\n",
    "# Elasticsearch credentials\n",
    "user = \"elasticuser\"\n",
    "pw = \"blaubarsch5\"\n",
    "host = \"https://app.leon-remke.jakob-hennighausen.melkonyan-davit.de/api/\""
   ]
  },
  {
   "cell_type": "code",
   "execution_count": 18,
   "metadata": {},
   "outputs": [],
   "source": [
    "# Imorts\n",
    "import os\n",
    "\n",
    "from elasticsearch7 import Elasticsearch\n",
    "import numpy as np\n",
    "import spacy\n",
    "import matplotlib\n",
    "from wordcloud import WordCloud\n",
    "from matplotlib import pyplot as plt\n",
    "from collections import Counter"
   ]
  },
  {
   "cell_type": "code",
   "execution_count": 19,
   "metadata": {},
   "outputs": [
    {
     "name": "stderr",
     "output_type": "stream",
     "text": [
      "/Users/leonremke/opt/anaconda3/envs/DSTA-Ex/lib/python3.9/site-packages/elasticsearch7/connection/base.py:200: ElasticsearchWarning: Elasticsearch built-in security features are not enabled. Without authentication, your cluster could be accessible to anyone. See https://www.elastic.co/guide/en/elasticsearch/reference/7.17/security-minimal-setup.html to enable security.\n",
      "  warnings.warn(message, category=ElasticsearchWarning)\n"
     ]
    },
    {
     "data": {
      "text/plain": [
       "{'name': 'ubuntu-elastic-search',\n",
       " 'cluster_name': 'elasticsearch',\n",
       " 'cluster_uuid': 'C3IT-gleTX-yJIPo-o8IxA',\n",
       " 'version': {'number': '7.17.8',\n",
       "  'build_flavor': 'default',\n",
       "  'build_type': 'deb',\n",
       "  'build_hash': '120eabe1c8a0cb2ae87cffc109a5b65d213e9df1',\n",
       "  'build_date': '2022-12-02T17:33:09.727072865Z',\n",
       "  'build_snapshot': False,\n",
       "  'lucene_version': '8.11.1',\n",
       "  'minimum_wire_compatibility_version': '6.8.0',\n",
       "  'minimum_index_compatibility_version': '6.0.0-beta1'},\n",
       " 'tagline': 'You Know, for Search'}"
      ]
     },
     "execution_count": 19,
     "metadata": {},
     "output_type": "execute_result"
    }
   ],
   "source": [
    "\n",
    "es = Elasticsearch(\n",
    "    hosts=host,\n",
    "    http_auth=(user, pw)\n",
    ")\n",
    "\n",
    "es.info()"
   ]
  },
  {
   "cell_type": "code",
   "execution_count": 20,
   "metadata": {},
   "outputs": [],
   "source": [
    "pg_mapping = np.genfromtxt('./baseline/imdb_id_with_age_rating_list.txt', delimiter=',', dtype=str)"
   ]
  },
  {
   "cell_type": "code",
   "execution_count": 21,
   "metadata": {},
   "outputs": [],
   "source": [
    "def conv_nan(row):\n",
    "    if row[1] == 'no age rating found':\n",
    "        row[1] = None\n",
    "    return row"
   ]
  },
  {
   "cell_type": "code",
   "execution_count": 22,
   "metadata": {},
   "outputs": [],
   "source": [
    "# First apply the conv() filtering on the word count\n",
    "pg_mapping = np.array([conv_nan(row) for row in pg_mapping])"
   ]
  },
  {
   "cell_type": "code",
   "execution_count": 23,
   "metadata": {},
   "outputs": [
    {
     "data": {
      "text/plain": [
       "array([['tt0032138', 'None'],\n",
       "       ['tt0035423', 'PG-13'],\n",
       "       ['tt0038650', 'PG'],\n",
       "       ...,\n",
       "       ['tt7160070', 'NR'],\n",
       "       ['tt7180392', 'None'],\n",
       "       ['tt7672188', 'None']], dtype='<U19')"
      ]
     },
     "execution_count": 23,
     "metadata": {},
     "output_type": "execute_result"
    }
   ],
   "source": [
    "pg_mapping"
   ]
  },
  {
   "cell_type": "code",
   "execution_count": null,
   "metadata": {},
   "outputs": [],
   "source": []
  }
 ],
 "metadata": {
  "kernelspec": {
   "display_name": "DSTA-Ex",
   "language": "python",
   "name": "python3"
  },
  "language_info": {
   "codemirror_mode": {
    "name": "ipython",
    "version": 3
   },
   "file_extension": ".py",
   "mimetype": "text/x-python",
   "name": "python",
   "nbconvert_exporter": "python",
   "pygments_lexer": "ipython3",
   "version": "3.9.13"
  },
  "orig_nbformat": 4,
  "vscode": {
   "interpreter": {
    "hash": "4866e9b40fea9f06b06ed809e3b853269fe88b923a0e8c33a2ef3b4b2c5cac86"
   }
  }
 },
 "nbformat": 4,
 "nbformat_minor": 2
}
