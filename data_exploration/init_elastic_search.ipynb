{
 "cells": [
  {
   "attachments": {},
   "cell_type": "markdown",
   "metadata": {},
   "source": [
    "# Upload datasets to elastisearch\n",
    "\n",
    "#### Bringing mapped baseline and movie scripts into a valid json format and push them to elasticsearch running on server.\n",
    "\n",
    "1. Map baseline to movie scripts"
   ]
  },
  {
   "cell_type": "code",
   "execution_count": 126,
   "metadata": {},
   "outputs": [
    {
     "name": "stderr",
     "output_type": "stream",
     "text": [
      "bash: line 1: /Users/leonremke/.bashrc: No such file or directory\n"
     ]
    },
    {
     "name": "stdout",
     "output_type": "stream",
     "text": [
      "Requirement already satisfied: elasticsearch in /Users/leonremke/opt/anaconda3/envs/DSTA-Ex/lib/python3.9/site-packages (from -r requirements.txt (line 1)) (7.5.1)\n",
      "Requirement already satisfied: pandas in /Users/leonremke/opt/anaconda3/envs/DSTA-Ex/lib/python3.9/site-packages (from -r requirements.txt (line 2)) (1.5.2)\n",
      "Requirement already satisfied: numpy in /Users/leonremke/opt/anaconda3/envs/DSTA-Ex/lib/python3.9/site-packages (from -r requirements.txt (line 3)) (1.22.4)\n",
      "Requirement already satisfied: matplotlib in /Users/leonremke/opt/anaconda3/envs/DSTA-Ex/lib/python3.9/site-packages (from -r requirements.txt (line 4)) (3.6.2)\n",
      "Requirement already satisfied: spacy in /Users/leonremke/opt/anaconda3/envs/DSTA-Ex/lib/python3.9/site-packages (from -r requirements.txt (line 5)) (3.4.3)\n",
      "Requirement already satisfied: wordcloud in /Users/leonremke/opt/anaconda3/envs/DSTA-Ex/lib/python3.9/site-packages (from -r requirements.txt (line 6)) (1.8.2.2)\n",
      "Requirement already satisfied: sklearn in /Users/leonremke/opt/anaconda3/envs/DSTA-Ex/lib/python3.9/site-packages (from -r requirements.txt (line 7)) (0.0.post1)\n",
      "Requirement already satisfied: urllib3>=1.21.1 in /Users/leonremke/opt/anaconda3/envs/DSTA-Ex/lib/python3.9/site-packages (from elasticsearch->-r requirements.txt (line 1)) (1.26.11)\n",
      "Requirement already satisfied: pytz>=2020.1 in /Users/leonremke/opt/anaconda3/envs/DSTA-Ex/lib/python3.9/site-packages (from pandas->-r requirements.txt (line 2)) (2022.6)\n",
      "Requirement already satisfied: python-dateutil>=2.8.1 in /Users/leonremke/opt/anaconda3/envs/DSTA-Ex/lib/python3.9/site-packages (from pandas->-r requirements.txt (line 2)) (2.8.2)\n",
      "Requirement already satisfied: cycler>=0.10 in /Users/leonremke/opt/anaconda3/envs/DSTA-Ex/lib/python3.9/site-packages (from matplotlib->-r requirements.txt (line 4)) (0.11.0)\n",
      "Requirement already satisfied: fonttools>=4.22.0 in /Users/leonremke/opt/anaconda3/envs/DSTA-Ex/lib/python3.9/site-packages (from matplotlib->-r requirements.txt (line 4)) (4.38.0)\n",
      "Requirement already satisfied: packaging>=20.0 in /Users/leonremke/opt/anaconda3/envs/DSTA-Ex/lib/python3.9/site-packages (from matplotlib->-r requirements.txt (line 4)) (21.3)\n",
      "Requirement already satisfied: kiwisolver>=1.0.1 in /Users/leonremke/opt/anaconda3/envs/DSTA-Ex/lib/python3.9/site-packages (from matplotlib->-r requirements.txt (line 4)) (1.4.4)\n",
      "Requirement already satisfied: pillow>=6.2.0 in /Users/leonremke/opt/anaconda3/envs/DSTA-Ex/lib/python3.9/site-packages (from matplotlib->-r requirements.txt (line 4)) (9.3.0)\n",
      "Requirement already satisfied: pyparsing>=2.2.1 in /Users/leonremke/opt/anaconda3/envs/DSTA-Ex/lib/python3.9/site-packages (from matplotlib->-r requirements.txt (line 4)) (3.0.4)\n",
      "Requirement already satisfied: contourpy>=1.0.1 in /Users/leonremke/opt/anaconda3/envs/DSTA-Ex/lib/python3.9/site-packages (from matplotlib->-r requirements.txt (line 4)) (1.0.6)\n",
      "Requirement already satisfied: langcodes<4.0.0,>=3.2.0 in /Users/leonremke/opt/anaconda3/envs/DSTA-Ex/lib/python3.9/site-packages (from spacy->-r requirements.txt (line 5)) (3.3.0)\n",
      "Requirement already satisfied: wasabi<1.1.0,>=0.9.1 in /Users/leonremke/opt/anaconda3/envs/DSTA-Ex/lib/python3.9/site-packages (from spacy->-r requirements.txt (line 5)) (0.10.1)\n",
      "Requirement already satisfied: catalogue<2.1.0,>=2.0.6 in /Users/leonremke/opt/anaconda3/envs/DSTA-Ex/lib/python3.9/site-packages (from spacy->-r requirements.txt (line 5)) (2.0.8)\n",
      "Requirement already satisfied: setuptools in /Users/leonremke/opt/anaconda3/envs/DSTA-Ex/lib/python3.9/site-packages (from spacy->-r requirements.txt (line 5)) (65.5.0)\n",
      "Requirement already satisfied: tqdm<5.0.0,>=4.38.0 in /Users/leonremke/opt/anaconda3/envs/DSTA-Ex/lib/python3.9/site-packages (from spacy->-r requirements.txt (line 5)) (4.64.1)\n",
      "Requirement already satisfied: spacy-legacy<3.1.0,>=3.0.10 in /Users/leonremke/opt/anaconda3/envs/DSTA-Ex/lib/python3.9/site-packages (from spacy->-r requirements.txt (line 5)) (3.0.10)\n",
      "Requirement already satisfied: cymem<2.1.0,>=2.0.2 in /Users/leonremke/opt/anaconda3/envs/DSTA-Ex/lib/python3.9/site-packages (from spacy->-r requirements.txt (line 5)) (2.0.7)\n",
      "Requirement already satisfied: spacy-loggers<2.0.0,>=1.0.0 in /Users/leonremke/opt/anaconda3/envs/DSTA-Ex/lib/python3.9/site-packages (from spacy->-r requirements.txt (line 5)) (1.0.3)\n",
      "Requirement already satisfied: srsly<3.0.0,>=2.4.3 in /Users/leonremke/opt/anaconda3/envs/DSTA-Ex/lib/python3.9/site-packages (from spacy->-r requirements.txt (line 5)) (2.4.5)\n",
      "Requirement already satisfied: jinja2 in /Users/leonremke/opt/anaconda3/envs/DSTA-Ex/lib/python3.9/site-packages (from spacy->-r requirements.txt (line 5)) (3.0.3)\n",
      "Requirement already satisfied: murmurhash<1.1.0,>=0.28.0 in /Users/leonremke/opt/anaconda3/envs/DSTA-Ex/lib/python3.9/site-packages (from spacy->-r requirements.txt (line 5)) (1.0.9)\n",
      "Requirement already satisfied: pydantic!=1.8,!=1.8.1,<1.11.0,>=1.7.4 in /Users/leonremke/opt/anaconda3/envs/DSTA-Ex/lib/python3.9/site-packages (from spacy->-r requirements.txt (line 5)) (1.10.2)\n",
      "Requirement already satisfied: pathy>=0.3.5 in /Users/leonremke/opt/anaconda3/envs/DSTA-Ex/lib/python3.9/site-packages (from spacy->-r requirements.txt (line 5)) (0.10.0)\n",
      "Requirement already satisfied: requests<3.0.0,>=2.13.0 in /Users/leonremke/opt/anaconda3/envs/DSTA-Ex/lib/python3.9/site-packages (from spacy->-r requirements.txt (line 5)) (2.28.1)\n",
      "Requirement already satisfied: typer<0.8.0,>=0.3.0 in /Users/leonremke/opt/anaconda3/envs/DSTA-Ex/lib/python3.9/site-packages (from spacy->-r requirements.txt (line 5)) (0.7.0)\n",
      "Requirement already satisfied: thinc<8.2.0,>=8.1.0 in /Users/leonremke/opt/anaconda3/envs/DSTA-Ex/lib/python3.9/site-packages (from spacy->-r requirements.txt (line 5)) (8.1.5)\n",
      "Requirement already satisfied: preshed<3.1.0,>=3.0.2 in /Users/leonremke/opt/anaconda3/envs/DSTA-Ex/lib/python3.9/site-packages (from spacy->-r requirements.txt (line 5)) (3.0.8)\n",
      "Requirement already satisfied: smart-open<6.0.0,>=5.2.1 in /Users/leonremke/opt/anaconda3/envs/DSTA-Ex/lib/python3.9/site-packages (from pathy>=0.3.5->spacy->-r requirements.txt (line 5)) (5.2.1)\n",
      "Requirement already satisfied: typing-extensions>=4.1.0 in /Users/leonremke/opt/anaconda3/envs/DSTA-Ex/lib/python3.9/site-packages (from pydantic!=1.8,!=1.8.1,<1.11.0,>=1.7.4->spacy->-r requirements.txt (line 5)) (4.1.1)\n",
      "Requirement already satisfied: six>=1.5 in /Users/leonremke/opt/anaconda3/envs/DSTA-Ex/lib/python3.9/site-packages (from python-dateutil>=2.8.1->pandas->-r requirements.txt (line 2)) (1.16.0)\n",
      "Requirement already satisfied: certifi>=2017.4.17 in /Users/leonremke/opt/anaconda3/envs/DSTA-Ex/lib/python3.9/site-packages (from requests<3.0.0,>=2.13.0->spacy->-r requirements.txt (line 5)) (2022.6.15)\n",
      "Requirement already satisfied: charset-normalizer<3,>=2 in /Users/leonremke/opt/anaconda3/envs/DSTA-Ex/lib/python3.9/site-packages (from requests<3.0.0,>=2.13.0->spacy->-r requirements.txt (line 5)) (2.1.1)\n",
      "Requirement already satisfied: idna<4,>=2.5 in /Users/leonremke/opt/anaconda3/envs/DSTA-Ex/lib/python3.9/site-packages (from requests<3.0.0,>=2.13.0->spacy->-r requirements.txt (line 5)) (3.4)\n",
      "Requirement already satisfied: blis<0.8.0,>=0.7.8 in /Users/leonremke/opt/anaconda3/envs/DSTA-Ex/lib/python3.9/site-packages (from thinc<8.2.0,>=8.1.0->spacy->-r requirements.txt (line 5)) (0.7.9)\n",
      "Requirement already satisfied: confection<1.0.0,>=0.0.1 in /Users/leonremke/opt/anaconda3/envs/DSTA-Ex/lib/python3.9/site-packages (from thinc<8.2.0,>=8.1.0->spacy->-r requirements.txt (line 5)) (0.0.3)\n",
      "Requirement already satisfied: click<9.0.0,>=7.1.1 in /Users/leonremke/opt/anaconda3/envs/DSTA-Ex/lib/python3.9/site-packages (from typer<0.8.0,>=0.3.0->spacy->-r requirements.txt (line 5)) (8.1.3)\n",
      "Requirement already satisfied: MarkupSafe>=2.0 in /Users/leonremke/opt/anaconda3/envs/DSTA-Ex/lib/python3.9/site-packages (from jinja2->spacy->-r requirements.txt (line 5)) (2.1.1)\n"
     ]
    }
   ],
   "source": [
    "%%bash\n",
    ". ~/.bashrc\n",
    "python3 -m pip install -r requirements.txt\n",
    "# Install necessary packages"
   ]
  },
  {
   "cell_type": "code",
   "execution_count": 127,
   "metadata": {},
   "outputs": [],
   "source": [
    "# index key for further queries\n",
    "index = \"raw_movies\"\n",
    "# Elasticsearch credentials\n",
    "user = \"\"\n",
    "pw = \"\"\n",
    "host = \"https://app.leon-remke.jakob-hennighausen.melkonyan-davit.de/api/\""
   ]
  },
  {
   "cell_type": "code",
   "execution_count": 167,
   "metadata": {},
   "outputs": [],
   "source": [
    "# Imorts\n",
    "import os\n",
    "\n",
    "from elasticsearch7 import Elasticsearch\n",
    "import numpy as np\n",
    "import spacy\n",
    "import matplotlib\n",
    "from wordcloud import WordCloud\n",
    "from matplotlib import pyplot as plt\n",
    "from collections import Counter"
   ]
  },
  {
   "cell_type": "code",
   "execution_count": 168,
   "metadata": {},
   "outputs": [
    {
     "data": {
      "text/plain": [
       "{'name': 'ubuntu-elastic-search',\n",
       " 'cluster_name': 'elasticsearch',\n",
       " 'cluster_uuid': 'C3IT-gleTX-yJIPo-o8IxA',\n",
       " 'version': {'number': '7.17.8',\n",
       "  'build_flavor': 'default',\n",
       "  'build_type': 'deb',\n",
       "  'build_hash': '120eabe1c8a0cb2ae87cffc109a5b65d213e9df1',\n",
       "  'build_date': '2022-12-02T17:33:09.727072865Z',\n",
       "  'build_snapshot': False,\n",
       "  'lucene_version': '8.11.1',\n",
       "  'minimum_wire_compatibility_version': '6.8.0',\n",
       "  'minimum_index_compatibility_version': '6.0.0-beta1'},\n",
       " 'tagline': 'You Know, for Search'}"
      ]
     },
     "execution_count": 168,
     "metadata": {},
     "output_type": "execute_result"
    }
   ],
   "source": [
    "\n",
    "es = Elasticsearch(\n",
    "    hosts=host,\n",
    "    http_auth=(user, pw)\n",
    ")\n",
    "\n",
    "es.info()"
   ]
  },
  {
   "cell_type": "code",
   "execution_count": 169,
   "metadata": {},
   "outputs": [],
   "source": [
    "pg_mapping = np.genfromtxt('./baseline/imdb_id_with_age_rating_list.txt', delimiter=',', dtype=str)"
   ]
  },
  {
   "cell_type": "code",
   "execution_count": 170,
   "metadata": {},
   "outputs": [],
   "source": [
    "def conv_nan(row):\n",
    "    if row[1] == 'no age rating found':\n",
    "        row[1] = 'None'\n",
    "    return row"
   ]
  },
  {
   "cell_type": "code",
   "execution_count": 171,
   "metadata": {},
   "outputs": [
    {
     "data": {
      "text/plain": [
       "array([['tt0032138', 'None'],\n",
       "       ['tt0035423', 'PG-13'],\n",
       "       ['tt0038650', 'PG'],\n",
       "       ...,\n",
       "       ['tt7160070', 'NR'],\n",
       "       ['tt7180392', 'None'],\n",
       "       ['tt7672188', 'None']], dtype='<U19')"
      ]
     },
     "execution_count": 171,
     "metadata": {},
     "output_type": "execute_result"
    }
   ],
   "source": [
    "# First apply the conv() filtering on the word count\n",
    "pg_mapping = np.array([conv_nan(row) for row in pg_mapping])\n",
    "pg_mapping"
   ]
  },
  {
   "cell_type": "code",
   "execution_count": 172,
   "metadata": {},
   "outputs": [],
   "source": [
    "def get_string_from_file(file):\n",
    "    with open('./script/' + file, 'r') as f:\n",
    "        return f.read()"
   ]
  },
  {
   "cell_type": "code",
   "execution_count": 173,
   "metadata": {},
   "outputs": [],
   "source": [
    "from os import listdir\n",
    "from os.path import isfile, join\n",
    "\n",
    "def get_files_from_dir(dir):\n",
    "    onlyfiles = [f for f in listdir(dir) if isfile(join(dir, f))]\n",
    "    return onlyfiles"
   ]
  },
  {
   "cell_type": "code",
   "execution_count": 174,
   "metadata": {},
   "outputs": [],
   "source": [
    "output_file = open(\"elastic_search_init.json\", \"w\")\n",
    "\n",
    "for idx, file in enumerate(get_files_from_dir('./script')):\n",
    "    script = get_string_from_file(file)\n",
    "    script = script.replace(\"'\", \" \").replace('\"', ' ').replace('\\n', ' ').replace('\\r', ' ')\n",
    "    imdb_id = file.split('.')[0]\n",
    "    pg_rating = pg_mapping[np.where(pg_mapping[:,0] == imdb_id)][0][1]\n",
    "    value_str = '{\"imdb_id\": \"' + imdb_id + '\", \"movie_script\": \"' + script + '\", \"age_rating\": \"' + str(pg_rating) + '\"}'\n",
    "    output_file.write('{\"index\":{\"_index\": \"' + str(index) + '\", \"_id\": \"' + str(idx + 1) + '\"}}' + '\\n')\n",
    "    output_file.write(value_str + '\\n')\n",
    "    if idx == 1:\n",
    "        break\n",
    "output_file.close()\n",
    "    # Not working :(((\n",
    "    # es.index(index='movies', document={\"imdb_id\": file, \"script\": script, \"age_rating\": pg_rating})\n",
    "    # es.index(index=index, document={\"imdb_id\": file, \"script\": script, \"age_rating\": pg_rating})"
   ]
  },
  {
   "cell_type": "code",
   "execution_count": 175,
   "metadata": {},
   "outputs": [
    {
     "name": "stderr",
     "output_type": "stream",
     "text": [
      "bash: line 1: /Users/leonremke/.bashrc: No such file or directory\n",
      "  % Total    % Received % Xferd  Average Speed   Time    Time     Time  Current\n",
      "                                 Dload  Upload   Total   Spent    Left  Speed\n",
      "100  462k  100   770  100  462k    189   113k  0:00:04  0:00:04 --:--:--  114k\n"
     ]
    },
    {
     "name": "stdout",
     "output_type": "stream",
     "text": [
      "{\n",
      "  \"took\" : 59,\n",
      "  \"errors\" : false,\n",
      "  \"items\" : [\n",
      "    {\n",
      "      \"index\" : {\n",
      "        \"_index\" : \"raw_movies\",\n",
      "        \"_type\" : \"_doc\",\n",
      "        \"_id\" : \"1\",\n",
      "        \"_version\" : 4,\n",
      "        \"result\" : \"updated\",\n",
      "        \"_shards\" : {\n",
      "          \"total\" : 2,\n",
      "          \"successful\" : 1,\n",
      "          \"failed\" : 0\n",
      "        },\n",
      "        \"_seq_no\" : 349,\n",
      "        \"_primary_term\" : 1,\n",
      "        \"status\" : 200\n",
      "      }\n",
      "    },\n",
      "    {\n",
      "      \"index\" : {\n",
      "        \"_index\" : \"raw_movies\",\n",
      "        \"_type\" : \"_doc\",\n",
      "        \"_id\" : \"2\",\n",
      "        \"_version\" : 3,\n",
      "        \"result\" : \"updated\",\n",
      "        \"_shards\" : {\n",
      "          \"total\" : 2,\n",
      "          \"successful\" : 1,\n",
      "          \"failed\" : 0\n",
      "        },\n",
      "        \"_seq_no\" : 350,\n",
      "        \"_primary_term\" : 1,\n",
      "        \"status\" : 200\n",
      "      }\n",
      "    }\n",
      "  ]\n",
      "}\n"
     ]
    }
   ],
   "source": [
    "%%bash\n",
    ". ~/.bashrc\n",
    "curl -u elasticuser:blaubarsch5 -H \"Content-Type:application/x-ndjson\" -XPOST https://app.leon-remke.jakob-hennighausen.melkonyan-davit.de/api/_bulk?pretty --data-binary \"@elastic_search_init.json\"\n",
    "\n"
   ]
  },
  {
   "cell_type": "code",
   "execution_count": 163,
   "metadata": {},
   "outputs": [
    {
     "name": "stderr",
     "output_type": "stream",
     "text": [
      "/Users/leonremke/opt/anaconda3/envs/DSTA-Ex/lib/python3.9/site-packages/elasticsearch7/connection/base.py:200: ElasticsearchWarning: Elasticsearch built-in security features are not enabled. Without authentication, your cluster could be accessible to anyone. See https://www.elastic.co/guide/en/elasticsearch/reference/7.17/security-minimal-setup.html to enable security.\n",
      "  warnings.warn(message, category=ElasticsearchWarning)\n",
      "/Users/leonremke/opt/anaconda3/envs/DSTA-Ex/lib/python3.9/site-packages/elasticsearch7/connection/base.py:200: ElasticsearchWarning: [types removal] Specifying types in search requests is deprecated.\n",
      "  warnings.warn(message, category=ElasticsearchWarning)\n",
      "/Users/leonremke/opt/anaconda3/envs/DSTA-Ex/lib/python3.9/site-packages/elasticsearch7/connection/base.py:200: ElasticsearchWarning: this request accesses system indices: [.apm-agent-configuration, .apm-custom-link, .kibana_7.17.7_001, .kibana_7.17.8_001, .kibana_task_manager_7.17.7_001, .kibana_task_manager_7.17.8_001, .tasks], but in a future major version, direct access to system indices will be prevented by default\n",
      "  warnings.warn(message, category=ElasticsearchWarning)\n"
     ]
    },
    {
     "data": {
      "text/plain": [
       "{'took': 7,\n",
       " 'timed_out': False,\n",
       " '_shards': {'total': 9, 'successful': 9, 'skipped': 0, 'failed': 0},\n",
       " 'hits': {'total': {'value': 0, 'relation': 'eq'},\n",
       "  'max_score': None,\n",
       "  'hits': []}}"
      ]
     },
     "execution_count": 163,
     "metadata": {},
     "output_type": "execute_result"
    }
   ],
   "source": [
    "es.search(index=index, query={\n",
    "        \"match_all\": {}\n",
    "     })"
   ]
  },
  {
   "cell_type": "code",
   "execution_count": 166,
   "metadata": {},
   "outputs": [
    {
     "name": "stderr",
     "output_type": "stream",
     "text": [
      "/Users/leonremke/opt/anaconda3/envs/DSTA-Ex/lib/python3.9/site-packages/elasticsearch7/connection/base.py:200: ElasticsearchWarning: Elasticsearch built-in security features are not enabled. Without authentication, your cluster could be accessible to anyone. See https://www.elastic.co/guide/en/elasticsearch/reference/7.17/security-minimal-setup.html to enable security.\n",
      "  warnings.warn(message, category=ElasticsearchWarning)\n"
     ]
    },
    {
     "ename": "RequestError",
     "evalue": "RequestError(400, 'illegal_argument_exception', 'Types cannot be provided in get mapping requests, unless include_type_name is set to true.')",
     "output_type": "error",
     "traceback": [
      "\u001b[0;31m---------------------------------------------------------------------------\u001b[0m",
      "\u001b[0;31mRequestError\u001b[0m                              Traceback (most recent call last)",
      "\u001b[1;32m/Users/leonremke/Documents/GIT_REPOS/UNI/dsta-movie-analytics/data_exploration/init_elastic_search.ipynb Cell 14\u001b[0m in \u001b[0;36m<cell line: 1>\u001b[0;34m()\u001b[0m\n\u001b[0;32m----> <a href='vscode-notebook-cell:/Users/leonremke/Documents/GIT_REPOS/UNI/dsta-movie-analytics/data_exploration/init_elastic_search.ipynb#X42sZmlsZQ%3D%3D?line=0'>1</a>\u001b[0m mapping \u001b[39m=\u001b[39m es\u001b[39m.\u001b[39;49mindices\u001b[39m.\u001b[39;49mget_mapping(index\u001b[39m=\u001b[39;49mindex)\n\u001b[1;32m      <a href='vscode-notebook-cell:/Users/leonremke/Documents/GIT_REPOS/UNI/dsta-movie-analytics/data_exploration/init_elastic_search.ipynb#X42sZmlsZQ%3D%3D?line=1'>2</a>\u001b[0m mapping\n",
      "File \u001b[0;32m~/opt/anaconda3/envs/DSTA-Ex/lib/python3.9/site-packages/elasticsearch7/client/utils.py:347\u001b[0m, in \u001b[0;36mquery_params.<locals>._wrapper.<locals>._wrapped\u001b[0;34m(*args, **kwargs)\u001b[0m\n\u001b[1;32m    345\u001b[0m     \u001b[39mif\u001b[39;00m p \u001b[39min\u001b[39;00m kwargs:\n\u001b[1;32m    346\u001b[0m         params[p] \u001b[39m=\u001b[39m kwargs\u001b[39m.\u001b[39mpop(p)\n\u001b[0;32m--> 347\u001b[0m \u001b[39mreturn\u001b[39;00m func(\u001b[39m*\u001b[39;49margs, params\u001b[39m=\u001b[39;49mparams, headers\u001b[39m=\u001b[39;49mheaders, \u001b[39m*\u001b[39;49m\u001b[39m*\u001b[39;49mkwargs)\n",
      "File \u001b[0;32m~/opt/anaconda3/envs/DSTA-Ex/lib/python3.9/site-packages/elasticsearch7/client/indices.py:496\u001b[0m, in \u001b[0;36mIndicesClient.get_mapping\u001b[0;34m(self, index, doc_type, params, headers)\u001b[0m\n\u001b[1;32m    465\u001b[0m \u001b[39m@query_params\u001b[39m(\n\u001b[1;32m    466\u001b[0m     \u001b[39m\"\u001b[39m\u001b[39mallow_no_indices\u001b[39m\u001b[39m\"\u001b[39m,\n\u001b[1;32m    467\u001b[0m     \u001b[39m\"\u001b[39m\u001b[39mexpand_wildcards\u001b[39m\u001b[39m\"\u001b[39m,\n\u001b[0;32m   (...)\u001b[0m\n\u001b[1;32m    473\u001b[0m )\n\u001b[1;32m    474\u001b[0m \u001b[39mdef\u001b[39;00m \u001b[39mget_mapping\u001b[39m(\u001b[39mself\u001b[39m, index\u001b[39m=\u001b[39m\u001b[39mNone\u001b[39;00m, doc_type\u001b[39m=\u001b[39m\u001b[39mNone\u001b[39;00m, params\u001b[39m=\u001b[39m\u001b[39mNone\u001b[39;00m, headers\u001b[39m=\u001b[39m\u001b[39mNone\u001b[39;00m):\n\u001b[1;32m    475\u001b[0m     \u001b[39m\"\"\"\u001b[39;00m\n\u001b[1;32m    476\u001b[0m \u001b[39m    Returns mappings for one or more indices.\u001b[39;00m\n\u001b[1;32m    477\u001b[0m \n\u001b[0;32m   (...)\u001b[0m\n\u001b[1;32m    494\u001b[0m \u001b[39m    :arg master_timeout: Specify timeout for connection to master\u001b[39;00m\n\u001b[1;32m    495\u001b[0m \u001b[39m    \"\"\"\u001b[39;00m\n\u001b[0;32m--> 496\u001b[0m     \u001b[39mreturn\u001b[39;00m \u001b[39mself\u001b[39;49m\u001b[39m.\u001b[39;49mtransport\u001b[39m.\u001b[39;49mperform_request(\n\u001b[1;32m    497\u001b[0m         \u001b[39m\"\u001b[39;49m\u001b[39mGET\u001b[39;49m\u001b[39m\"\u001b[39;49m,\n\u001b[1;32m    498\u001b[0m         _make_path(index, \u001b[39m\"\u001b[39;49m\u001b[39m_mapping\u001b[39;49m\u001b[39m\"\u001b[39;49m, doc_type),\n\u001b[1;32m    499\u001b[0m         params\u001b[39m=\u001b[39;49mparams,\n\u001b[1;32m    500\u001b[0m         headers\u001b[39m=\u001b[39;49mheaders,\n\u001b[1;32m    501\u001b[0m     )\n",
      "File \u001b[0;32m~/opt/anaconda3/envs/DSTA-Ex/lib/python3.9/site-packages/elasticsearch7/transport.py:466\u001b[0m, in \u001b[0;36mTransport.perform_request\u001b[0;34m(self, method, url, headers, params, body)\u001b[0m\n\u001b[1;32m    464\u001b[0m             \u001b[39mraise\u001b[39;00m e\n\u001b[1;32m    465\u001b[0m     \u001b[39melse\u001b[39;00m:\n\u001b[0;32m--> 466\u001b[0m         \u001b[39mraise\u001b[39;00m e\n\u001b[1;32m    468\u001b[0m \u001b[39melse\u001b[39;00m:\n\u001b[1;32m    469\u001b[0m     \u001b[39m# connection didn't fail, confirm it's live status\u001b[39;00m\n\u001b[1;32m    470\u001b[0m     \u001b[39mself\u001b[39m\u001b[39m.\u001b[39mconnection_pool\u001b[39m.\u001b[39mmark_live(connection)\n",
      "File \u001b[0;32m~/opt/anaconda3/envs/DSTA-Ex/lib/python3.9/site-packages/elasticsearch7/transport.py:427\u001b[0m, in \u001b[0;36mTransport.perform_request\u001b[0;34m(self, method, url, headers, params, body)\u001b[0m\n\u001b[1;32m    424\u001b[0m connection \u001b[39m=\u001b[39m \u001b[39mself\u001b[39m\u001b[39m.\u001b[39mget_connection()\n\u001b[1;32m    426\u001b[0m \u001b[39mtry\u001b[39;00m:\n\u001b[0;32m--> 427\u001b[0m     status, headers_response, data \u001b[39m=\u001b[39m connection\u001b[39m.\u001b[39;49mperform_request(\n\u001b[1;32m    428\u001b[0m         method,\n\u001b[1;32m    429\u001b[0m         url,\n\u001b[1;32m    430\u001b[0m         params,\n\u001b[1;32m    431\u001b[0m         body,\n\u001b[1;32m    432\u001b[0m         headers\u001b[39m=\u001b[39;49mheaders,\n\u001b[1;32m    433\u001b[0m         ignore\u001b[39m=\u001b[39;49mignore,\n\u001b[1;32m    434\u001b[0m         timeout\u001b[39m=\u001b[39;49mtimeout,\n\u001b[1;32m    435\u001b[0m     )\n\u001b[1;32m    437\u001b[0m     \u001b[39m# Lowercase all the header names for consistency in accessing them.\u001b[39;00m\n\u001b[1;32m    438\u001b[0m     headers_response \u001b[39m=\u001b[39m {\n\u001b[1;32m    439\u001b[0m         header\u001b[39m.\u001b[39mlower(): value \u001b[39mfor\u001b[39;00m header, value \u001b[39min\u001b[39;00m headers_response\u001b[39m.\u001b[39mitems()\n\u001b[1;32m    440\u001b[0m     }\n",
      "File \u001b[0;32m~/opt/anaconda3/envs/DSTA-Ex/lib/python3.9/site-packages/elasticsearch7/connection/http_urllib3.py:291\u001b[0m, in \u001b[0;36mUrllib3HttpConnection.perform_request\u001b[0;34m(self, method, url, params, body, timeout, ignore, headers)\u001b[0m\n\u001b[1;32m    287\u001b[0m \u001b[39mif\u001b[39;00m \u001b[39mnot\u001b[39;00m (\u001b[39m200\u001b[39m \u001b[39m<\u001b[39m\u001b[39m=\u001b[39m response\u001b[39m.\u001b[39mstatus \u001b[39m<\u001b[39m \u001b[39m300\u001b[39m) \u001b[39mand\u001b[39;00m response\u001b[39m.\u001b[39mstatus \u001b[39mnot\u001b[39;00m \u001b[39min\u001b[39;00m ignore:\n\u001b[1;32m    288\u001b[0m     \u001b[39mself\u001b[39m\u001b[39m.\u001b[39mlog_request_fail(\n\u001b[1;32m    289\u001b[0m         method, full_url, url, orig_body, duration, response\u001b[39m.\u001b[39mstatus, raw_data\n\u001b[1;32m    290\u001b[0m     )\n\u001b[0;32m--> 291\u001b[0m     \u001b[39mself\u001b[39;49m\u001b[39m.\u001b[39;49m_raise_error(response\u001b[39m.\u001b[39;49mstatus, raw_data)\n\u001b[1;32m    293\u001b[0m \u001b[39mself\u001b[39m\u001b[39m.\u001b[39mlog_request_success(\n\u001b[1;32m    294\u001b[0m     method, full_url, url, orig_body, response\u001b[39m.\u001b[39mstatus, raw_data, duration\n\u001b[1;32m    295\u001b[0m )\n\u001b[1;32m    297\u001b[0m \u001b[39mreturn\u001b[39;00m response\u001b[39m.\u001b[39mstatus, response_headers, raw_data\n",
      "File \u001b[0;32m~/opt/anaconda3/envs/DSTA-Ex/lib/python3.9/site-packages/elasticsearch7/connection/base.py:328\u001b[0m, in \u001b[0;36mConnection._raise_error\u001b[0;34m(self, status_code, raw_data)\u001b[0m\n\u001b[1;32m    325\u001b[0m \u001b[39mexcept\u001b[39;00m (\u001b[39mValueError\u001b[39;00m, \u001b[39mTypeError\u001b[39;00m) \u001b[39mas\u001b[39;00m err:\n\u001b[1;32m    326\u001b[0m     logger\u001b[39m.\u001b[39mwarning(\u001b[39m\"\u001b[39m\u001b[39mUndecodable raw error response from server: \u001b[39m\u001b[39m%s\u001b[39;00m\u001b[39m\"\u001b[39m, err)\n\u001b[0;32m--> 328\u001b[0m \u001b[39mraise\u001b[39;00m HTTP_EXCEPTIONS\u001b[39m.\u001b[39mget(status_code, TransportError)(\n\u001b[1;32m    329\u001b[0m     status_code, error_message, additional_info\n\u001b[1;32m    330\u001b[0m )\n",
      "\u001b[0;31mRequestError\u001b[0m: RequestError(400, 'illegal_argument_exception', 'Types cannot be provided in get mapping requests, unless include_type_name is set to true.')"
     ]
    }
   ],
   "source": [
    "mapping = es.indices.get_mapping(index=index)\n",
    "mapping"
   ]
  },
  {
   "cell_type": "code",
   "execution_count": 139,
   "metadata": {},
   "outputs": [
    {
     "name": "stderr",
     "output_type": "stream",
     "text": [
      "/Users/leonremke/opt/anaconda3/envs/DSTA-Ex/lib/python3.9/site-packages/elasticsearch7/connection/base.py:200: ElasticsearchWarning: Elasticsearch built-in security features are not enabled. Without authentication, your cluster could be accessible to anyone. See https://www.elastic.co/guide/en/elasticsearch/reference/7.17/security-minimal-setup.html to enable security.\n",
      "  warnings.warn(message, category=ElasticsearchWarning)\n",
      "/Users/leonremke/opt/anaconda3/envs/DSTA-Ex/lib/python3.9/site-packages/elasticsearch7/connection/base.py:200: ElasticsearchWarning: [types removal] Specifying types in document index requests is deprecated, use the typeless endpoints instead (/{index}/_doc/{id}, /{index}/_doc, or /{index}/_create/{id}).\n",
      "  warnings.warn(message, category=ElasticsearchWarning)\n"
     ]
    },
    {
     "ename": "TransportError",
     "evalue": "TransportError(500, 'string_index_out_of_bounds_exception', 'Index 0 out of bounds for length 0')",
     "output_type": "error",
     "traceback": [
      "\u001b[0;31m---------------------------------------------------------------------------\u001b[0m",
      "\u001b[0;31mTransportError\u001b[0m                            Traceback (most recent call last)",
      "\u001b[1;32m/Users/leonremke/Documents/GIT_REPOS/UNI/dsta-movie-analytics/data_exploration/init_elastic_search.ipynb Cell 13\u001b[0m in \u001b[0;36m<cell line: 1>\u001b[0;34m()\u001b[0m\n\u001b[1;32m      <a href='vscode-notebook-cell:/Users/leonremke/Documents/GIT_REPOS/UNI/dsta-movie-analytics/data_exploration/init_elastic_search.ipynb#X40sZmlsZQ%3D%3D?line=3'>4</a>\u001b[0m pg_rating \u001b[39m=\u001b[39m pg_mapping[np\u001b[39m.\u001b[39mwhere(pg_mapping[:,\u001b[39m0\u001b[39m] \u001b[39m==\u001b[39m imdb_id)][\u001b[39m0\u001b[39m][\u001b[39m1\u001b[39m]\n\u001b[1;32m      <a href='vscode-notebook-cell:/Users/leonremke/Documents/GIT_REPOS/UNI/dsta-movie-analytics/data_exploration/init_elastic_search.ipynb#X40sZmlsZQ%3D%3D?line=4'>5</a>\u001b[0m \u001b[39m# Not working :(((\u001b[39;00m\n\u001b[0;32m----> <a href='vscode-notebook-cell:/Users/leonremke/Documents/GIT_REPOS/UNI/dsta-movie-analytics/data_exploration/init_elastic_search.ipynb#X40sZmlsZQ%3D%3D?line=5'>6</a>\u001b[0m es\u001b[39m.\u001b[39;49mindex(index\u001b[39m=\u001b[39;49mindex, doc_type\u001b[39m=\u001b[39;49mindex, document\u001b[39m=\u001b[39;49m{\u001b[39m'\u001b[39;49m\u001b[39mimdb_id\u001b[39;49m\u001b[39m'\u001b[39;49m: file, \u001b[39m'\u001b[39;49m\u001b[39mscript\u001b[39;49m\u001b[39m'\u001b[39;49m: script, \u001b[39m'\u001b[39;49m\u001b[39mage_rating\u001b[39;49m\u001b[39m'\u001b[39;49m: pg_rating})\n",
      "File \u001b[0;32m~/opt/anaconda3/envs/DSTA-Ex/lib/python3.9/site-packages/elasticsearch7/client/utils.py:347\u001b[0m, in \u001b[0;36mquery_params.<locals>._wrapper.<locals>._wrapped\u001b[0;34m(*args, **kwargs)\u001b[0m\n\u001b[1;32m    345\u001b[0m     \u001b[39mif\u001b[39;00m p \u001b[39min\u001b[39;00m kwargs:\n\u001b[1;32m    346\u001b[0m         params[p] \u001b[39m=\u001b[39m kwargs\u001b[39m.\u001b[39mpop(p)\n\u001b[0;32m--> 347\u001b[0m \u001b[39mreturn\u001b[39;00m func(\u001b[39m*\u001b[39;49margs, params\u001b[39m=\u001b[39;49mparams, headers\u001b[39m=\u001b[39;49mheaders, \u001b[39m*\u001b[39;49m\u001b[39m*\u001b[39;49mkwargs)\n",
      "File \u001b[0;32m~/opt/anaconda3/envs/DSTA-Ex/lib/python3.9/site-packages/elasticsearch7/client/__init__.py:413\u001b[0m, in \u001b[0;36mElasticsearch.index\u001b[0;34m(self, index, body, doc_type, id, params, headers)\u001b[0m\n\u001b[1;32m    410\u001b[0m \u001b[39mif\u001b[39;00m doc_type \u001b[39mis\u001b[39;00m \u001b[39mNone\u001b[39;00m:\n\u001b[1;32m    411\u001b[0m     doc_type \u001b[39m=\u001b[39m \u001b[39m\"\u001b[39m\u001b[39m_doc\u001b[39m\u001b[39m\"\u001b[39m\n\u001b[0;32m--> 413\u001b[0m \u001b[39mreturn\u001b[39;00m \u001b[39mself\u001b[39;49m\u001b[39m.\u001b[39;49mtransport\u001b[39m.\u001b[39;49mperform_request(\n\u001b[1;32m    414\u001b[0m     \u001b[39m\"\u001b[39;49m\u001b[39mPOST\u001b[39;49m\u001b[39m\"\u001b[39;49m \u001b[39mif\u001b[39;49;00m \u001b[39mid\u001b[39;49m \u001b[39min\u001b[39;49;00m SKIP_IN_PATH \u001b[39melse\u001b[39;49;00m \u001b[39m\"\u001b[39;49m\u001b[39mPUT\u001b[39;49m\u001b[39m\"\u001b[39;49m,\n\u001b[1;32m    415\u001b[0m     _make_path(index, doc_type, \u001b[39mid\u001b[39;49m),\n\u001b[1;32m    416\u001b[0m     params\u001b[39m=\u001b[39;49mparams,\n\u001b[1;32m    417\u001b[0m     headers\u001b[39m=\u001b[39;49mheaders,\n\u001b[1;32m    418\u001b[0m     body\u001b[39m=\u001b[39;49mbody,\n\u001b[1;32m    419\u001b[0m )\n",
      "File \u001b[0;32m~/opt/anaconda3/envs/DSTA-Ex/lib/python3.9/site-packages/elasticsearch7/transport.py:466\u001b[0m, in \u001b[0;36mTransport.perform_request\u001b[0;34m(self, method, url, headers, params, body)\u001b[0m\n\u001b[1;32m    464\u001b[0m             \u001b[39mraise\u001b[39;00m e\n\u001b[1;32m    465\u001b[0m     \u001b[39melse\u001b[39;00m:\n\u001b[0;32m--> 466\u001b[0m         \u001b[39mraise\u001b[39;00m e\n\u001b[1;32m    468\u001b[0m \u001b[39melse\u001b[39;00m:\n\u001b[1;32m    469\u001b[0m     \u001b[39m# connection didn't fail, confirm it's live status\u001b[39;00m\n\u001b[1;32m    470\u001b[0m     \u001b[39mself\u001b[39m\u001b[39m.\u001b[39mconnection_pool\u001b[39m.\u001b[39mmark_live(connection)\n",
      "File \u001b[0;32m~/opt/anaconda3/envs/DSTA-Ex/lib/python3.9/site-packages/elasticsearch7/transport.py:427\u001b[0m, in \u001b[0;36mTransport.perform_request\u001b[0;34m(self, method, url, headers, params, body)\u001b[0m\n\u001b[1;32m    424\u001b[0m connection \u001b[39m=\u001b[39m \u001b[39mself\u001b[39m\u001b[39m.\u001b[39mget_connection()\n\u001b[1;32m    426\u001b[0m \u001b[39mtry\u001b[39;00m:\n\u001b[0;32m--> 427\u001b[0m     status, headers_response, data \u001b[39m=\u001b[39m connection\u001b[39m.\u001b[39;49mperform_request(\n\u001b[1;32m    428\u001b[0m         method,\n\u001b[1;32m    429\u001b[0m         url,\n\u001b[1;32m    430\u001b[0m         params,\n\u001b[1;32m    431\u001b[0m         body,\n\u001b[1;32m    432\u001b[0m         headers\u001b[39m=\u001b[39;49mheaders,\n\u001b[1;32m    433\u001b[0m         ignore\u001b[39m=\u001b[39;49mignore,\n\u001b[1;32m    434\u001b[0m         timeout\u001b[39m=\u001b[39;49mtimeout,\n\u001b[1;32m    435\u001b[0m     )\n\u001b[1;32m    437\u001b[0m     \u001b[39m# Lowercase all the header names for consistency in accessing them.\u001b[39;00m\n\u001b[1;32m    438\u001b[0m     headers_response \u001b[39m=\u001b[39m {\n\u001b[1;32m    439\u001b[0m         header\u001b[39m.\u001b[39mlower(): value \u001b[39mfor\u001b[39;00m header, value \u001b[39min\u001b[39;00m headers_response\u001b[39m.\u001b[39mitems()\n\u001b[1;32m    440\u001b[0m     }\n",
      "File \u001b[0;32m~/opt/anaconda3/envs/DSTA-Ex/lib/python3.9/site-packages/elasticsearch7/connection/http_urllib3.py:291\u001b[0m, in \u001b[0;36mUrllib3HttpConnection.perform_request\u001b[0;34m(self, method, url, params, body, timeout, ignore, headers)\u001b[0m\n\u001b[1;32m    287\u001b[0m \u001b[39mif\u001b[39;00m \u001b[39mnot\u001b[39;00m (\u001b[39m200\u001b[39m \u001b[39m<\u001b[39m\u001b[39m=\u001b[39m response\u001b[39m.\u001b[39mstatus \u001b[39m<\u001b[39m \u001b[39m300\u001b[39m) \u001b[39mand\u001b[39;00m response\u001b[39m.\u001b[39mstatus \u001b[39mnot\u001b[39;00m \u001b[39min\u001b[39;00m ignore:\n\u001b[1;32m    288\u001b[0m     \u001b[39mself\u001b[39m\u001b[39m.\u001b[39mlog_request_fail(\n\u001b[1;32m    289\u001b[0m         method, full_url, url, orig_body, duration, response\u001b[39m.\u001b[39mstatus, raw_data\n\u001b[1;32m    290\u001b[0m     )\n\u001b[0;32m--> 291\u001b[0m     \u001b[39mself\u001b[39;49m\u001b[39m.\u001b[39;49m_raise_error(response\u001b[39m.\u001b[39;49mstatus, raw_data)\n\u001b[1;32m    293\u001b[0m \u001b[39mself\u001b[39m\u001b[39m.\u001b[39mlog_request_success(\n\u001b[1;32m    294\u001b[0m     method, full_url, url, orig_body, response\u001b[39m.\u001b[39mstatus, raw_data, duration\n\u001b[1;32m    295\u001b[0m )\n\u001b[1;32m    297\u001b[0m \u001b[39mreturn\u001b[39;00m response\u001b[39m.\u001b[39mstatus, response_headers, raw_data\n",
      "File \u001b[0;32m~/opt/anaconda3/envs/DSTA-Ex/lib/python3.9/site-packages/elasticsearch7/connection/base.py:328\u001b[0m, in \u001b[0;36mConnection._raise_error\u001b[0;34m(self, status_code, raw_data)\u001b[0m\n\u001b[1;32m    325\u001b[0m \u001b[39mexcept\u001b[39;00m (\u001b[39mValueError\u001b[39;00m, \u001b[39mTypeError\u001b[39;00m) \u001b[39mas\u001b[39;00m err:\n\u001b[1;32m    326\u001b[0m     logger\u001b[39m.\u001b[39mwarning(\u001b[39m\"\u001b[39m\u001b[39mUndecodable raw error response from server: \u001b[39m\u001b[39m%s\u001b[39;00m\u001b[39m\"\u001b[39m, err)\n\u001b[0;32m--> 328\u001b[0m \u001b[39mraise\u001b[39;00m HTTP_EXCEPTIONS\u001b[39m.\u001b[39mget(status_code, TransportError)(\n\u001b[1;32m    329\u001b[0m     status_code, error_message, additional_info\n\u001b[1;32m    330\u001b[0m )\n",
      "\u001b[0;31mTransportError\u001b[0m: TransportError(500, 'string_index_out_of_bounds_exception', 'Index 0 out of bounds for length 0')"
     ]
    }
   ],
   "source": [
    "for idx, file in enumerate(get_files_from_dir('./script')):\n",
    "    script = get_string_from_file(file)\n",
    "    imdb_id = file.split('.')[0]\n",
    "    pg_rating = pg_mapping[np.where(pg_mapping[:,0] == imdb_id)][0][1]\n",
    "    # Not working :(((\n",
    "    es.index(index=index, doc_type=index, document={\"imdb_id\": file, \"script\": script, \"age_rating\": pg_rating})\n",
    "    # es.index(index=index, document={\"imdb_id\": file, \"script\": script, \"age_rating\": pg_rating})"
   ]
  },
  {
   "cell_type": "code",
   "execution_count": null,
   "metadata": {},
   "outputs": [],
   "source": []
  }
 ],
 "metadata": {
  "kernelspec": {
   "display_name": "DSTA-Ex",
   "language": "python",
   "name": "python3"
  },
  "language_info": {
   "codemirror_mode": {
    "name": "ipython",
    "version": 3
   },
   "file_extension": ".py",
   "mimetype": "text/x-python",
   "name": "python",
   "nbconvert_exporter": "python",
   "pygments_lexer": "ipython3",
   "version": "3.9.13"
  },
  "orig_nbformat": 4,
  "vscode": {
   "interpreter": {
    "hash": "4866e9b40fea9f06b06ed809e3b853269fe88b923a0e8c33a2ef3b4b2c5cac86"
   }
  }
 },
 "nbformat": 4,
 "nbformat_minor": 2
}
