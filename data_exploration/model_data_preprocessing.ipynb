{
 "cells": [
  {
   "attachments": {},
   "cell_type": "markdown",
   "metadata": {},
   "source": [
    "## Preprocess data to fit model format"
   ]
  },
  {
   "cell_type": "code",
   "execution_count": 2,
   "metadata": {},
   "outputs": [],
   "source": [
    "import pandas as pd\n",
    "import numpy as np"
   ]
  },
  {
   "cell_type": "code",
   "execution_count": 55,
   "metadata": {},
   "outputs": [],
   "source": [
    "def get_script_from_id(id):\n",
    "    script = open('./script/' + id + '.script', 'r')\n",
    "    print(script)\n",
    "    #script = script.replace(\"'\", \" \").replace('\"', ' ').replace('\\n', ' ').replace('\\r', ' ').replace('\\t', ' ').replace('\\b', ' ').replace('\\\\', ' ')\n",
    "    return script"
   ]
  },
  {
   "cell_type": "code",
   "execution_count": 56,
   "metadata": {},
   "outputs": [
    {
     "name": "stdout",
     "output_type": "stream",
     "text": [
      "<_io.TextIOWrapper name='script\\\\tt0032138.script' mode='r' encoding='UTF-8'>\n",
      "<_io.TextIOWrapper name='script\\\\tt0032138.script' mode='r' encoding='UTF-8'>\n",
      "<_io.TextIOWrapper name='script\\\\tt0032138.script' mode='r' encoding='UTF-8'>\n",
      "<_io.TextIOWrapper name='script\\\\tt0032138.script' mode='r' encoding='UTF-8'>\n",
      "<_io.TextIOWrapper name='script\\\\tt0032138.script' mode='r' encoding='UTF-8'>\n",
      "<_io.TextIOWrapper name='script\\\\tt0035423.script' mode='r' encoding='UTF-8'>\n",
      "<_io.TextIOWrapper name='script\\\\tt0035423.script' mode='r' encoding='UTF-8'>\n",
      "<_io.TextIOWrapper name='script\\\\tt0035423.script' mode='r' encoding='UTF-8'>\n",
      "<_io.TextIOWrapper name='script\\\\tt0035423.script' mode='r' encoding='UTF-8'>\n",
      "<_io.TextIOWrapper name='script\\\\tt0035423.script' mode='r' encoding='UTF-8'>\n",
      "<_io.TextIOWrapper name='script\\\\tt0038650.script' mode='r' encoding='UTF-8'>\n",
      "<_io.TextIOWrapper name='script\\\\tt0038650.script' mode='r' encoding='UTF-8'>\n",
      "<_io.TextIOWrapper name='script\\\\tt0038650.script' mode='r' encoding='UTF-8'>\n",
      "<_io.TextIOWrapper name='script\\\\tt0038650.script' mode='r' encoding='UTF-8'>\n",
      "<_io.TextIOWrapper name='script\\\\tt0038650.script' mode='r' encoding='UTF-8'>\n"
     ]
    },
    {
     "ename": "FileNotFoundError",
     "evalue": "[Errno 2] No such file or directory: 'script\\\\tt0045537.script'",
     "output_type": "error",
     "traceback": [
      "\u001b[1;31m---------------------------------------------------------------------------\u001b[0m",
      "\u001b[1;31mFileNotFoundError\u001b[0m                         Traceback (most recent call last)",
      "Cell \u001b[1;32mIn[56], line 17\u001b[0m\n\u001b[0;32m     14\u001b[0m         max_value \u001b[39m=\u001b[39m vote_count\n\u001b[0;32m     15\u001b[0m line_data\u001b[39m.\u001b[39mappend(max_index)\n\u001b[1;32m---> 17\u001b[0m script \u001b[39m=\u001b[39m get_script_from_id(line_data[\u001b[39m0\u001b[39;49m])\n\u001b[0;32m     19\u001b[0m line_data\u001b[39m.\u001b[39mappend(script)\n\u001b[0;32m     20\u001b[0m df_data\u001b[39m.\u001b[39mappend(line_data)\n",
      "Cell \u001b[1;32mIn[55], line 2\u001b[0m, in \u001b[0;36mget_script_from_id\u001b[1;34m(id)\u001b[0m\n\u001b[0;32m      1\u001b[0m \u001b[39mdef\u001b[39;00m \u001b[39mget_script_from_id\u001b[39m(\u001b[39mid\u001b[39m):\n\u001b[1;32m----> 2\u001b[0m     script \u001b[39m=\u001b[39m \u001b[39mopen\u001b[39;49m(\u001b[39m'\u001b[39;49m\u001b[39mscript\u001b[39;49m\u001b[39m\\\\\u001b[39;49;00m\u001b[39m'\u001b[39;49m \u001b[39m+\u001b[39;49m \u001b[39mid\u001b[39;49m \u001b[39m+\u001b[39;49m \u001b[39m'\u001b[39;49m\u001b[39m.script\u001b[39;49m\u001b[39m'\u001b[39;49m, \u001b[39m'\u001b[39;49m\u001b[39mr\u001b[39;49m\u001b[39m'\u001b[39;49m)\n\u001b[0;32m      3\u001b[0m     \u001b[39mprint\u001b[39m(script)\n\u001b[0;32m      4\u001b[0m     \u001b[39m#script = script.replace(\"'\", \" \").replace('\"', ' ').replace('\\n', ' ').replace('\\r', ' ').replace('\\t', ' ').replace('\\b', ' ').replace('\\\\', ' ')\u001b[39;00m\n",
      "File \u001b[1;32mc:\\Users\\Jakob\\anaconda3\\envs\\DSTA\\lib\\site-packages\\IPython\\core\\interactiveshell.py:282\u001b[0m, in \u001b[0;36m_modified_open\u001b[1;34m(file, *args, **kwargs)\u001b[0m\n\u001b[0;32m    275\u001b[0m \u001b[39mif\u001b[39;00m file \u001b[39min\u001b[39;00m {\u001b[39m0\u001b[39m, \u001b[39m1\u001b[39m, \u001b[39m2\u001b[39m}:\n\u001b[0;32m    276\u001b[0m     \u001b[39mraise\u001b[39;00m \u001b[39mValueError\u001b[39;00m(\n\u001b[0;32m    277\u001b[0m         \u001b[39mf\u001b[39m\u001b[39m\"\u001b[39m\u001b[39mIPython won\u001b[39m\u001b[39m'\u001b[39m\u001b[39mt let you open fd=\u001b[39m\u001b[39m{\u001b[39;00mfile\u001b[39m}\u001b[39;00m\u001b[39m by default \u001b[39m\u001b[39m\"\u001b[39m\n\u001b[0;32m    278\u001b[0m         \u001b[39m\"\u001b[39m\u001b[39mas it is likely to crash IPython. If you know what you are doing, \u001b[39m\u001b[39m\"\u001b[39m\n\u001b[0;32m    279\u001b[0m         \u001b[39m\"\u001b[39m\u001b[39myou can use builtins\u001b[39m\u001b[39m'\u001b[39m\u001b[39m open.\u001b[39m\u001b[39m\"\u001b[39m\n\u001b[0;32m    280\u001b[0m     )\n\u001b[1;32m--> 282\u001b[0m \u001b[39mreturn\u001b[39;00m io_open(file, \u001b[39m*\u001b[39margs, \u001b[39m*\u001b[39m\u001b[39m*\u001b[39mkwargs)\n",
      "\u001b[1;31mFileNotFoundError\u001b[0m: [Errno 2] No such file or directory: 'script\\\\tt0045537.script'"
     ]
    }
   ],
   "source": [
    "inputFile = open('./baseline/imdb_id_with_age_rating_and_labels.txt')\n",
    "df_data = []\n",
    "for line in inputFile:\n",
    "    line_data = line.strip().split(',')\n",
    "    # print(line_data)\n",
    "    line_data.append(int(line_data[3]) + int(line_data[4]) + int(line_data[5]) + int(line_data[6]))\n",
    "    \n",
    "    max_index = 0\n",
    "    max_value = 0\n",
    "    for i in range(3,7):\n",
    "        vote_count = int(line_data[i])\n",
    "        if(vote_count >= max_value):\n",
    "            max_index = i - 3\n",
    "            max_value = vote_count\n",
    "    line_data.append(max_index)\n",
    "    \n",
    "    script = get_script_from_id(line_data[0])\n",
    "\n",
    "    line_data.append(script)\n",
    "    df_data.append(line_data)\n",
    "\n",
    "# id | Aspect | None | Mild | Moderate | Severe | Total_votes | Aspect_rating | text\n",
    "df = pd.DataFrame(df_data, columns=['imdb_id', 'age_rating', 'aspect', 'votes none', 'votes mild', 'votes moderate', 'votes severe', 'total_votes', 'aspect_rating', 'text'])\n",
    "df.drop(columns=[\"age_rating\"], inplace=True)\n",
    "df = df.astype({'votes mild':'int', 'votes moderate':'int', 'votes severe':'int', 'votes none':'int', 'total_votes':'int', 'aspect_rating':'int'})\n",
    "df.head()\n"
   ]
  }
 ],
 "metadata": {
  "kernelspec": {
   "display_name": "DSTA",
   "language": "python",
   "name": "python3"
  },
  "language_info": {
   "codemirror_mode": {
    "name": "ipython",
    "version": 3
   },
   "file_extension": ".py",
   "mimetype": "text/x-python",
   "name": "python",
   "nbconvert_exporter": "python",
   "pygments_lexer": "ipython3",
   "version": "3.9.16"
  },
  "orig_nbformat": 4,
  "vscode": {
   "interpreter": {
    "hash": "a756606616f6fecdd1e064c9323ddbc373f4f115fac167c58ba550302a0aebf4"
   }
  }
 },
 "nbformat": 4,
 "nbformat_minor": 2
}
