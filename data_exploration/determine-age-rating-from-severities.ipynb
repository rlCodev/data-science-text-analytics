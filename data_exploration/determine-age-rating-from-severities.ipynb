{
 "cells": [
  {
   "attachments": {},
   "cell_type": "markdown",
   "metadata": {},
   "source": [
    "## Profanity filter\n",
    "\n"
   ]
  },
  {
   "attachments": {},
   "cell_type": "markdown",
   "metadata": {},
   "source": [
    "Based on the Severity levels our model predicts, we can derive our predicted age rating, based on criteria mentioned by the parental guide. \n",
    "\n"
   ]
  },
  {
   "cell_type": "code",
   "execution_count": 3,
   "metadata": {},
   "outputs": [],
   "source": [
    "def get_rating(severities, swear_words):\n",
    "    \"\"\"Determine the age rating from the severities of the profanity words.\n",
    "    Args:\n",
    "        severities (list): List of the severities of the profanity words.\n",
    "    Returns:\n",
    "        str: The age rating.\n",
    "    \"\"\"\n",
    "    if severities:\n",
    "        if severities[0] == 0 and severities[1] <= 1 and severities[2] == 0 and severities[3] == 0:\n",
    "            return \"G\"\n",
    "        elif severities[0] == 0 and severities[1] <= 1 and severities[2] <= 1 and severities[3] == 0:\n",
    "            return \"PG\"\n",
    "        elif severities[0] <= 1 and severities[1] <= 1 and severities[3] <= 2 and len(swear_words) < 2:\n",
    "            return \"PG-13\"\n",
    "        elif severities[0] == 5 and severities[1] == 5 and severities[2] == 5 and severities[3] == 5:\n",
    "            return \"NC-17\"\n",
    "        else:\n",
    "            return \"R\"\n",
    "    else:\n",
    "        return \"G\""
   ]
  }
 ],
 "metadata": {
  "kernelspec": {
   "display_name": "DSTA",
   "language": "python",
   "name": "python3"
  },
  "language_info": {
   "codemirror_mode": {
    "name": "ipython",
    "version": 3
   },
   "file_extension": ".py",
   "mimetype": "text/x-python",
   "name": "python",
   "nbconvert_exporter": "python",
   "pygments_lexer": "ipython3",
   "version": "3.9.16"
  },
  "orig_nbformat": 4,
  "vscode": {
   "interpreter": {
    "hash": "a756606616f6fecdd1e064c9323ddbc373f4f115fac167c58ba550302a0aebf4"
   }
  }
 },
 "nbformat": 4,
 "nbformat_minor": 2
}
