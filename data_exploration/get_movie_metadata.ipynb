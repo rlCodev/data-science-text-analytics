{
 "cells": [
  {
   "cell_type": "code",
   "execution_count": 110,
   "metadata": {},
   "outputs": [],
   "source": [
    "import requests,json,csv,os\n",
    "\n",
    "Movie_name = '8 mm'\n",
    "\n",
    "API_key = '2f336ef7520a9304940fd71509ade61c'\n",
    "#Use this method to return the tmdb-id (as a String) of a movie. It uses the defualt API_key which is\n",
    "#set to my API_key. The input is a string of searchwords.\n",
    "\n",
    "def get_tmdb_id_by_name(searchwords: str) -> str:\n",
    "    #splits the string into each individual search word and creates query, by appending search words in query.\n",
    "    words = searchwords.split(' ')\n",
    "    query = 'https://api.themoviedb.org/3/search/movie/?api_key='+API_key+'&query='\n",
    "    for i in range(len(words) - 1):\n",
    "        query += words[i] + '+'\n",
    "    query += words[len(words) - 1]\n",
    "\n",
    "    #executes query, if response code is 200, then the query was successful\n",
    "    response =  requests.get(query)\n",
    "    if response.status_code==200: \n",
    "        array = response.json()\n",
    "        #text contains the query as a json-file\n",
    "        text = json.dumps(array)\n",
    "        #print(text)\n",
    "    else:\n",
    "        print(\"No results for searchwords --> error\")\n",
    "        return (\"No results for searchwords --> error\")\n",
    "    \n",
    "    #dataset is json file converted into a list, containing the elements as either lists or maps\n",
    "    dataset = json.loads(text)\n",
    "    #extracts the movie id of the very first result\n",
    "    # print(dataset)\n",
    "    try:\n",
    "        tmdb_id = dataset['results'][0]['id']\n",
    "        return str(tmdb_id)\n",
    "    except:\n",
    "        return str(-1)\n",
    "    # print(tmdb_id)\n",
    "\n",
    "def get_tmdb_id_by_imdb_id(imdb_id:str) -> str:\n",
    "    query = 'https://api.themoviedb.org/3/find/'+imdb_id+'?api_key='+API_key+'&external_source=imdb_id'\n",
    "    response =  requests.get(query)\n",
    "    if response.status_code==200:\n",
    "        array = response.json()\n",
    "        #text contains the query as a json-file\n",
    "        text = json.dumps(array)\n",
    "        #print(text)\n",
    "    else:\n",
    "        print(\"No results for searchwords --> error\")\n",
    "        return (\"No results for searchwords --> error\")\n",
    "    dataset = json.loads(text)\n",
    "    #extracts the movie id of the very first result\n",
    "    # print(dataset)\n",
    "    try:\n",
    "        tmdb_id = dataset['movie_results'][0]['id']\n",
    "        return str(tmdb_id)\n",
    "    except:\n",
    "        return str(-1)"
   ]
  },
  {
   "cell_type": "code",
   "execution_count": 111,
   "metadata": {},
   "outputs": [
    {
     "data": {
      "text/plain": [
       "array([['tt0032138', 'None'],\n",
       "       ['tt0035423', 'PG-13'],\n",
       "       ['tt0038650', 'PG'],\n",
       "       ['tt0045537', 'None']], dtype='<U19')"
      ]
     },
     "execution_count": 111,
     "metadata": {},
     "output_type": "execute_result"
    }
   ],
   "source": [
    "import numpy as np\n",
    "pg_mapping = np.genfromtxt('./baseline/imdb_id_with_age_rating_list.txt', delimiter=',', dtype=str)\n",
    "\n",
    "def conv_nan(row):\n",
    "    if row[1] == 'no age rating found':\n",
    "        row[1] = 'None'\n",
    "    return row\n",
    "\n",
    "# First apply the conv() filtering on the word count\n",
    "pg_mapping = np.array([conv_nan(row) for row in pg_mapping])\n",
    "pg_mapping"
   ]
  },
  {
   "cell_type": "code",
   "execution_count": 112,
   "metadata": {},
   "outputs": [],
   "source": [
    "#Uses tmdb id as input and returns the age certification as a String\n",
    "def get_metadata_by_tmdb_id(tmdb_id: str) -> str:\n",
    "    if(tmdb_id == '-1'):\n",
    "        return 'metadata not found'\n",
    "    else:\n",
    "        query = 'https://api.themoviedb.org/3/movie/'+tmdb_id+'?api_key='+API_key\n",
    "        response =  requests.get(query)\n",
    "        array = response.json()\n",
    "        text = json.dumps(array)\n",
    "        dataset = json.loads(text)\n",
    "        return dataset"
   ]
  },
  {
   "cell_type": "code",
   "execution_count": 113,
   "metadata": {},
   "outputs": [],
   "source": [
    "def get_age_certfication_by_tmdb_id(tmdb_id: str) -> str:\n",
    "    age_rating = ''\n",
    "    if(tmdb_id != '-1'):\n",
    "        query = 'https://api.themoviedb.org/3/movie/'+tmdb_id+'/release_dates?api_key='+API_key\n",
    "        response =  requests.get(query)\n",
    "        array = response.json()\n",
    "        text = json.dumps(array)\n",
    "        dataset = json.loads(text)\n",
    "\n",
    "        list_of_certs = dataset['results']\n",
    "        index = -1\n",
    "        # print(dataset)\n",
    "        for i in range(len(list_of_certs)):\n",
    "            if(list_of_certs[i]['iso_3166_1'] == 'US'):\n",
    "                index = i\n",
    "                break\n",
    "\n",
    "        if(index != -1):\n",
    "            age_rating = dataset['results'][index]['release_dates'][0]['certification']\n",
    "    return age_rating"
   ]
  },
  {
   "cell_type": "code",
   "execution_count": 114,
   "metadata": {},
   "outputs": [],
   "source": [
    "# Test query for one movie\n",
    "\n",
    "def map_tmdb_metadata(imdb_id: str):\n",
    "    tmdb_id = get_tmdb_id_by_imdb_id(imdb_id)\n",
    "    metadata = get_metadata_by_tmdb_id(tmdb_id)\n",
    "    # print(json.dumps(metadata, indent=2))\n",
    "    metadata = {\n",
    "        \"tmdb_id\": metadata[\"id\"],\n",
    "        \"imdb_id\": metadata[\"imdb_id\"],\n",
    "        \"original_title\": metadata[\"original_title\"].replace(\"'\", \"\"),\n",
    "        \"genres\": metadata[\"genres\"],\n",
    "        \"tagline\": metadata[\"tagline\"].replace(\"'\", \"\"),\n",
    "        \"overview\": metadata[\"overview\"].replace(\"'\", \"\"),\n",
    "        \"poster_path\": metadata[\"poster_path\"],\n",
    "        \"pg_rating\": get_age_certfication_by_tmdb_id(tmdb_id),\n",
    "    }\n",
    "    return metadata\n",
    "    # print(json.dumps(metadata, indent=2))"
   ]
  },
  {
   "cell_type": "code",
   "execution_count": 121,
   "metadata": {},
   "outputs": [
    {
     "name": "stderr",
     "output_type": "stream",
     "text": [
      "  0%|          | 4/1101 [00:05<24:28,  1.34s/it]\n"
     ]
    }
   ],
   "source": [
    "from tqdm import tqdm\n",
    "inputFile = open('./baseline/movie1K_list.txt').read().split('\\n')\n",
    "elastic_output_file = open(\"elastic_metadata_init.json\", \"w\")\n",
    "\n",
    "output = []\n",
    "result = {}\n",
    "\n",
    "\n",
    "for idx, line in tqdm(enumerate(inputFile), total=len(inputFile)):\n",
    "    imdb_id = line.strip()\n",
    "    metadata = map_tmdb_metadata(imdb_id)\n",
    "    output.append(metadata)\n",
    "    value_str = str(metadata).replace(\"'\", '\"')\n",
    "    elastic_output_file.write('{\"index\":{\"_index\": \"movie_metadata\", \"_type\":\"_doc\", \"_id\": \"' + str(idx + 1) + '\"}}' + '\\n')\n",
    "    elastic_output_file.write(value_str + '\\n')\n",
    "    \n",
    "    if len(output) == 5:\n",
    "        break\n",
    "result = {\n",
    "    \"movie_dataset\": output\n",
    "}"
   ]
  },
  {
   "cell_type": "code",
   "execution_count": 122,
   "metadata": {},
   "outputs": [
    {
     "data": {
      "text/plain": [
       "2884"
      ]
     },
     "execution_count": 122,
     "metadata": {},
     "output_type": "execute_result"
    }
   ],
   "source": [
    "resultFile = open('./movie_metadata.json', 'w')\n",
    "resultFile.write(str(result).replace(\"'\", '\"'))"
   ]
  },
  {
   "cell_type": "code",
   "execution_count": null,
   "metadata": {},
   "outputs": [],
   "source": []
  }
 ],
 "metadata": {
  "kernelspec": {
   "display_name": "Python 3",
   "language": "python",
   "name": "python3"
  },
  "language_info": {
   "codemirror_mode": {
    "name": "ipython",
    "version": 3
   },
   "file_extension": ".py",
   "mimetype": "text/x-python",
   "name": "python",
   "nbconvert_exporter": "python",
   "pygments_lexer": "ipython3",
   "version": "3.9.13"
  },
  "orig_nbformat": 4,
  "vscode": {
   "interpreter": {
    "hash": "886aa8fa3d382ae9c8d950e48333371cafb0684066b1d3fef9589771341aab2e"
   }
  }
 },
 "nbformat": 4,
 "nbformat_minor": 2
}
