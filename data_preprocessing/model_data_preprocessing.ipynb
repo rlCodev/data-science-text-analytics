{
 "cells": [
  {
   "attachments": {},
   "cell_type": "markdown",
   "metadata": {},
   "source": [
    "## Preprocess data to fit model format"
   ]
  },
  {
   "cell_type": "code",
   "execution_count": 6,
   "metadata": {},
   "outputs": [],
   "source": [
    "import pandas as pd\n",
    "import numpy as np"
   ]
  },
  {
   "cell_type": "code",
   "execution_count": 7,
   "metadata": {},
   "outputs": [],
   "source": [
    "def get_script_from_id(id):\n",
    "    script = open('../data/script/' + id + '.script', 'r').read()\n",
    "    # print(script)\n",
    "    script = script.replace(\"'\", \" \").replace('\"', ' ').replace('\\n', ' ').replace('\\r', ' ').replace('\\t', ' ').replace('\\b', ' ').replace('\\\\', ' ')\n",
    "    return script"
   ]
  },
  {
   "cell_type": "code",
   "execution_count": 8,
   "metadata": {},
   "outputs": [
    {
     "name": "stdout",
     "output_type": "stream",
     "text": [
      "        imdb_id       aspect  votes none  votes mild  votes moderate  \\\n",
      "0     tt0032138       nudity          93           3               0   \n",
      "1     tt0032138     violence          23          61               8   \n",
      "2     tt0032138    profanity          86           4               0   \n",
      "3     tt0032138      alcohol          76          10               1   \n",
      "4     tt0032138  frightening          10          63              17   \n",
      "...         ...          ...         ...         ...             ...   \n",
      "2387  tt2582846       nudity           9          68              30   \n",
      "2388  tt2582846     violence          18          45               1   \n",
      "2389  tt2582846    profanity           6          41              14   \n",
      "2390  tt2582846      alcohol           3          46               8   \n",
      "2391  tt2582846  frightening           5          17              43   \n",
      "\n",
      "      votes severe  total_votes  aspect_rating  \\\n",
      "0                8          104              0   \n",
      "1                8          100              1   \n",
      "2                5           95              0   \n",
      "3                6           93              0   \n",
      "4               10          100              1   \n",
      "...            ...          ...            ...   \n",
      "2387             7          114              1   \n",
      "2388             1           65              1   \n",
      "2389             1           62              1   \n",
      "2390             2           59              1   \n",
      "2391             7           72              2   \n",
      "\n",
      "                                                   text  \n",
      "0     FADE IN -- Title:  For nearly forty years this...  \n",
      "1     FADE IN -- Title:  For nearly forty years this...  \n",
      "2     FADE IN -- Title:  For nearly forty years this...  \n",
      "3     FADE IN -- Title:  For nearly forty years this...  \n",
      "4     FADE IN -- Title:  For nearly forty years this...  \n",
      "...                                                 ...  \n",
      "2387                                   THE FAULT IN ...  \n",
      "2388                                   THE FAULT IN ...  \n",
      "2389                                   THE FAULT IN ...  \n",
      "2390                                   THE FAULT IN ...  \n",
      "2391                                   THE FAULT IN ...  \n",
      "\n",
      "[2392 rows x 9 columns]\n"
     ]
    }
   ],
   "source": [
    "inputFile = open('../data_gathering/baseline/output/imdb_id_with_age_rating_and_labels.txt')\n",
    "df_data = []\n",
    "for line in inputFile:\n",
    "    line_data = line.strip().split(',')\n",
    "    # print(line_data)\n",
    "    line_data.append(int(line_data[3]) + int(line_data[4]) + int(line_data[5]) + int(line_data[6]))\n",
    "    \n",
    "    max_index = 0\n",
    "    max_value = 0\n",
    "    for i in range(3,7):\n",
    "        vote_count = int(line_data[i])\n",
    "        if(vote_count >= max_value):\n",
    "            max_index = i - 3\n",
    "            max_value = vote_count\n",
    "    line_data.append(max_index)\n",
    "    try:\n",
    "        script = get_script_from_id(line_data[0])\n",
    "    except:\n",
    "        #print('Error on loading script for id: ' + line_data[0])\n",
    "        continue\n",
    "    line_data.append(script)\n",
    "    df_data.append(line_data)\n",
    "\n",
    "# id | Aspect | None | Mild | Moderate | Severe | Total_votes | Aspect_rating | text\n",
    "df = pd.DataFrame(df_data, columns=['imdb_id', 'age_rating', 'aspect', 'votes none', 'votes mild', 'votes moderate', 'votes severe', 'total_votes', 'aspect_rating', 'text'])\n",
    "df.drop(columns=[\"age_rating\"], inplace=True)\n",
    "df.reset_index(drop=True, inplace=True)\n",
    "df = df.astype({'votes mild':'int', 'votes moderate':'int', 'votes severe':'int', 'votes none':'int', 'total_votes':'int', 'aspect_rating':'int'})\n",
    "print(df)\n"
   ]
  },
  {
   "cell_type": "code",
   "execution_count": 9,
   "metadata": {},
   "outputs": [],
   "source": [
    "import pandas as pd\n",
    "import pickle\n",
    "\n",
    "def map_data_frame_to_pickle(data_frame, file_name, path='./'):\n",
    "    file_name = f'{file_name}.pkl'\n",
    "    with open(path + file_name, 'wb') as f:\n",
    "        pickle.dump(data_frame, f)\n",
    "\n",
    "def split_df_into_test_and_train(aspect_name, df, path='./'):\n",
    "    df_train = df.sample(frac=0.85, random_state=0)\n",
    "    df_test = df.drop(df_train.index)\n",
    "    map_data_frame_to_pickle(df_train, f'{aspect_name}_train', '../data/pickle/')\n",
    "    map_data_frame_to_pickle(df_test, f'{aspect_name}_test', '../data/pickle/')\n",
    "    map_data_frame_to_pickle(df_test, f'{aspect_name}_dev', '../data/pickle/')\n",
    "\n",
    "\n"
   ]
  },
  {
   "cell_type": "code",
   "execution_count": 10,
   "metadata": {},
   "outputs": [
    {
     "name": "stdout",
     "output_type": "stream",
     "text": [
      "alcohol 478\n",
      "frightening 479\n",
      "nudity 479\n",
      "profanity 478\n",
      "violence 478\n"
     ]
    }
   ],
   "source": [
    "# group the dataframe by 'aspect' and create a dictionary of dataframes\n",
    "df_dict = {aspect: aspect_df.drop('aspect', axis=1) for aspect, aspect_df in df.groupby('aspect')}\n",
    "\n",
    "# print the dictionary of dataframes\n",
    "for aspect, aspect_df in df_dict.items():\n",
    "    print(aspect, len(aspect_df))\n",
    "    split_df_into_test_and_train(aspect, aspect_df, '../data/pickle/')\n"
   ]
  },
  {
   "cell_type": "code",
   "execution_count": 11,
   "metadata": {},
   "outputs": [
    {
     "ename": "ModuleNotFoundError",
     "evalue": "No module named 'torch'",
     "output_type": "error",
     "traceback": [
      "\u001b[1;31m---------------------------------------------------------------------------\u001b[0m",
      "\u001b[1;31mModuleNotFoundError\u001b[0m                       Traceback (most recent call last)",
      "\u001b[1;32m~\\AppData\\Local\\Temp\\ipykernel_3204\\1945652311.py\u001b[0m in \u001b[0;36m<module>\u001b[1;34m\u001b[0m\n\u001b[0;32m      7\u001b[0m \u001b[1;33m\u001b[0m\u001b[0m\n\u001b[0;32m      8\u001b[0m \u001b[1;32mwith\u001b[0m \u001b[0mopen\u001b[0m\u001b[1;33m(\u001b[0m\u001b[1;34m\"../data/pickle/alcohol_train_emb.pkl\"\u001b[0m\u001b[1;33m,\u001b[0m \u001b[1;34m\"rb\"\u001b[0m\u001b[1;33m)\u001b[0m \u001b[1;32mas\u001b[0m \u001b[0mf\u001b[0m\u001b[1;33m:\u001b[0m\u001b[1;33m\u001b[0m\u001b[1;33m\u001b[0m\u001b[0m\n\u001b[1;32m----> 9\u001b[1;33m    \u001b[0mobject\u001b[0m \u001b[1;33m=\u001b[0m \u001b[0mpkl\u001b[0m\u001b[1;33m.\u001b[0m\u001b[0mload\u001b[0m\u001b[1;33m(\u001b[0m\u001b[0mf\u001b[0m\u001b[1;33m)\u001b[0m\u001b[1;33m\u001b[0m\u001b[1;33m\u001b[0m\u001b[0m\n\u001b[0m\u001b[0;32m     10\u001b[0m \u001b[1;33m\u001b[0m\u001b[0m\n\u001b[0;32m     11\u001b[0m \u001b[0mdf\u001b[0m \u001b[1;33m=\u001b[0m \u001b[0mpd\u001b[0m\u001b[1;33m.\u001b[0m\u001b[0mDataFrame\u001b[0m\u001b[1;33m(\u001b[0m\u001b[0mobject\u001b[0m\u001b[1;33m)\u001b[0m\u001b[1;33m\u001b[0m\u001b[1;33m\u001b[0m\u001b[0m\n",
      "\u001b[1;31mModuleNotFoundError\u001b[0m: No module named 'torch'"
     ]
    }
   ],
   "source": [
    " # Test the pickle generation\n",
    "\n",
    "import pickle as pkl\n",
    "import pandas as pd\n",
    "\n",
    " # map_data_frame_to_pickle(df, 'train_emb')\n",
    "\n",
    "with open(\"../data/pickle/alcohol_train_emb.pkl\", \"rb\") as f:\n",
    "    object = pkl.load(f)\n",
    "    \n",
    "df = pd.DataFrame(object)\n",
    "df.to_csv(r'train_emb.csv')"
   ]
  }
 ],
 "metadata": {
  "kernelspec": {
   "display_name": "base",
   "language": "python",
   "name": "python3"
  },
  "language_info": {
   "codemirror_mode": {
    "name": "ipython",
    "version": 3
   },
   "file_extension": ".py",
   "mimetype": "text/x-python",
   "name": "python",
   "nbconvert_exporter": "python",
   "pygments_lexer": "ipython3",
   "version": "3.9.13"
  },
  "orig_nbformat": 4,
  "vscode": {
   "interpreter": {
    "hash": "36c41b5de0dc174b767787cdcbbab7d0c8dbd2fce47f4aaa088facdf642c58c6"
   }
  }
 },
 "nbformat": 4,
 "nbformat_minor": 2
}
