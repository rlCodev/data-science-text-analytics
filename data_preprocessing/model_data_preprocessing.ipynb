{
 "cells": [
  {
   "attachments": {},
   "cell_type": "markdown",
   "metadata": {},
   "source": [
    "## Preprocess data to fit model format"
   ]
  },
  {
   "cell_type": "code",
   "execution_count": 1,
   "metadata": {},
   "outputs": [
    {
     "name": "stdout",
     "output_type": "stream",
     "text": [
      "1.1.3\n"
     ]
    }
   ],
   "source": [
    "import pandas as pd \n",
    "import numpy as np\n",
    "print(pd.__version__)"
   ]
  },
  {
   "cell_type": "code",
   "execution_count": 2,
   "metadata": {},
   "outputs": [],
   "source": [
    "def get_script_from_id(id):\n",
    "    script = open('../data/script/' + id + '.script', 'r').read()\n",
    "    # print(script)\n",
    "    script = script.replace(\"'\", \" \").replace('\"', ' ').replace('\\n', ' ').replace('\\r', ' ').replace('\\t', ' ').replace('\\b', ' ').replace('\\\\', ' ')\n",
    "    return script"
   ]
  },
  {
   "cell_type": "code",
   "execution_count": 3,
   "metadata": {},
   "outputs": [
    {
     "data": {
      "text/html": [
       "<div>\n",
       "<style scoped>\n",
       "    .dataframe tbody tr th:only-of-type {\n",
       "        vertical-align: middle;\n",
       "    }\n",
       "\n",
       "    .dataframe tbody tr th {\n",
       "        vertical-align: top;\n",
       "    }\n",
       "\n",
       "    .dataframe thead th {\n",
       "        text-align: right;\n",
       "    }\n",
       "</style>\n",
       "<table border=\"1\" class=\"dataframe\">\n",
       "  <thead>\n",
       "    <tr style=\"text-align: right;\">\n",
       "      <th></th>\n",
       "      <th>id</th>\n",
       "      <th>Aspect</th>\n",
       "      <th>None</th>\n",
       "      <th>Mild</th>\n",
       "      <th>Moderate</th>\n",
       "      <th>Severe</th>\n",
       "      <th>Total_votes</th>\n",
       "      <th>Aspect_rating</th>\n",
       "      <th>text</th>\n",
       "    </tr>\n",
       "  </thead>\n",
       "  <tbody>\n",
       "    <tr>\n",
       "      <th>0</th>\n",
       "      <td>tt0032138</td>\n",
       "      <td>nudity</td>\n",
       "      <td>93</td>\n",
       "      <td>3</td>\n",
       "      <td>0</td>\n",
       "      <td>8</td>\n",
       "      <td>104</td>\n",
       "      <td>0</td>\n",
       "      <td>FADE IN -- Title:  For nearly forty years this...</td>\n",
       "    </tr>\n",
       "    <tr>\n",
       "      <th>1</th>\n",
       "      <td>tt0032138</td>\n",
       "      <td>violence</td>\n",
       "      <td>23</td>\n",
       "      <td>61</td>\n",
       "      <td>8</td>\n",
       "      <td>8</td>\n",
       "      <td>100</td>\n",
       "      <td>1</td>\n",
       "      <td>FADE IN -- Title:  For nearly forty years this...</td>\n",
       "    </tr>\n",
       "    <tr>\n",
       "      <th>2</th>\n",
       "      <td>tt0032138</td>\n",
       "      <td>profanity</td>\n",
       "      <td>86</td>\n",
       "      <td>4</td>\n",
       "      <td>0</td>\n",
       "      <td>5</td>\n",
       "      <td>95</td>\n",
       "      <td>0</td>\n",
       "      <td>FADE IN -- Title:  For nearly forty years this...</td>\n",
       "    </tr>\n",
       "    <tr>\n",
       "      <th>3</th>\n",
       "      <td>tt0032138</td>\n",
       "      <td>alcohol</td>\n",
       "      <td>76</td>\n",
       "      <td>10</td>\n",
       "      <td>1</td>\n",
       "      <td>6</td>\n",
       "      <td>93</td>\n",
       "      <td>0</td>\n",
       "      <td>FADE IN -- Title:  For nearly forty years this...</td>\n",
       "    </tr>\n",
       "    <tr>\n",
       "      <th>4</th>\n",
       "      <td>tt0032138</td>\n",
       "      <td>frightening</td>\n",
       "      <td>10</td>\n",
       "      <td>63</td>\n",
       "      <td>17</td>\n",
       "      <td>10</td>\n",
       "      <td>100</td>\n",
       "      <td>1</td>\n",
       "      <td>FADE IN -- Title:  For nearly forty years this...</td>\n",
       "    </tr>\n",
       "  </tbody>\n",
       "</table>\n",
       "</div>"
      ],
      "text/plain": [
       "          id       Aspect  None  Mild  Moderate  Severe  Total_votes  \\\n",
       "0  tt0032138       nudity    93     3         0       8          104   \n",
       "1  tt0032138     violence    23    61         8       8          100   \n",
       "2  tt0032138    profanity    86     4         0       5           95   \n",
       "3  tt0032138      alcohol    76    10         1       6           93   \n",
       "4  tt0032138  frightening    10    63        17      10          100   \n",
       "\n",
       "   Aspect_rating                                               text  \n",
       "0              0  FADE IN -- Title:  For nearly forty years this...  \n",
       "1              1  FADE IN -- Title:  For nearly forty years this...  \n",
       "2              0  FADE IN -- Title:  For nearly forty years this...  \n",
       "3              0  FADE IN -- Title:  For nearly forty years this...  \n",
       "4              1  FADE IN -- Title:  For nearly forty years this...  "
      ]
     },
     "execution_count": 3,
     "metadata": {},
     "output_type": "execute_result"
    }
   ],
   "source": [
    "inputFile = open('../data_gathering/baseline/output/imdb_id_with_age_rating_and_labels.txt')\n",
    "df_data = []\n",
    "for line in inputFile:\n",
    "    line_data = line.strip().split(',')\n",
    "    # print(line_data)\n",
    "    line_data.append(int(line_data[3]) + int(line_data[4]) + int(line_data[5]) + int(line_data[6]))\n",
    "    \n",
    "    max_index = 0\n",
    "    max_value = 0\n",
    "    for i in range(3,7):\n",
    "        vote_count = int(line_data[i])\n",
    "        if(vote_count >= max_value):\n",
    "            max_index = i - 3\n",
    "            max_value = vote_count\n",
    "    line_data.append(max_index)\n",
    "    try:\n",
    "        script = get_script_from_id(line_data[0])\n",
    "    except:\n",
    "        #print('Error on loading script for id: ' + line_data[0])\n",
    "        continue\n",
    "    line_data.append(script)\n",
    "    df_data.append(line_data)\n",
    "\n",
    "# id | Aspect | None | Mild | Moderate | Severe | Total_votes | Aspect_rating | text\n",
    "df = pd.DataFrame(df_data, columns=['id', 'age_rating', 'Aspect', 'None', 'Mild', 'Moderate', 'Severe', 'Total_votes', 'Aspect_rating', 'text'])\n",
    "df.drop(columns=[\"age_rating\"], inplace=True)\n",
    "df.reset_index(drop=True, inplace=True)\n",
    "df = df.astype({'Mild':'int', 'Moderate':'int', 'Severe':'int', 'None':'int', 'Total_votes':'int', 'Aspect_rating':'int'})\n",
    "df.head()\n"
   ]
  },
  {
   "cell_type": "code",
   "execution_count": 4,
   "metadata": {},
   "outputs": [],
   "source": [
    "import pandas as pd\n",
    "import pickle\n",
    "\n",
    "def map_data_frame_to_pickle(data_frame, file_name, path='./'):\n",
    "    file_name = f'{file_name}.pkl'\n",
    "    with open(path + file_name, 'wb') as f:\n",
    "        data_frame.to_pickle(f, protocol=4)\n",
    "\n",
    "def split_df_into_test_and_train(aspect_name, df, path='./'):\n",
    "    df_train = df.sample(frac=0.85, random_state=0)\n",
    "    df_test = df.drop(df_train.index)\n",
    "    map_data_frame_to_pickle(df_train, f'{aspect_name}_train', '../data/pickle/')\n",
    "    map_data_frame_to_pickle(df_test, f'{aspect_name}_test', '../data/pickle/')\n",
    "    map_data_frame_to_pickle(df_test, f'{aspect_name}_dev', '../data/pickle/')\n",
    "\n",
    "\n"
   ]
  },
  {
   "cell_type": "code",
   "execution_count": 5,
   "metadata": {},
   "outputs": [
    {
     "name": "stdout",
     "output_type": "stream",
     "text": [
      "alcohol 478\n",
      "frightening 479\n",
      "nudity 479\n",
      "profanity 478\n",
      "violence 478\n"
     ]
    }
   ],
   "source": [
    "# group the dataframe by 'aspect' and create a dictionary of dataframes\n",
    "df_dict = {aspect: aspect_df.drop('Aspect', axis=1) for aspect, aspect_df in df.groupby('Aspect')}\n",
    "\n",
    "# print the dictionary of dataframes\n",
    "for aspect, aspect_df in df_dict.items():\n",
    "    print(aspect, len(aspect_df))\n",
    "    split_df_into_test_and_train(aspect, aspect_df, '../data/pickle/')\n"
   ]
  },
  {
   "cell_type": "code",
   "execution_count": 8,
   "metadata": {},
   "outputs": [
    {
     "name": "stdout",
     "output_type": "stream",
     "text": [
      "     imdb_id                                      sentences_emb\n",
      "0  tt0032138  [[tensor(0.1276), tensor(-0.1368), tensor(0.79...\n",
      "1  tt0035423  [[tensor(-0.6777), tensor(0.5362), tensor(0.49...\n",
      "2  tt0038650  [[tensor(0.1077), tensor(-0.2843), tensor(0.59...\n",
      "3  tt0047396  [[tensor(-0.9443), tensor(-0.1430), tensor(0.1...\n",
      "4  tt0048545  [[tensor(0.3541), tensor(0.8298), tensor(0.594...\n",
      "5  tt0049470  [[tensor(-0.6712), tensor(0.4965), tensor(0.08...\n"
     ]
    }
   ],
   "source": [
    " # Test the pickle generation\n",
    "\n",
    "import pickle as pkl\n",
    "import pandas as pd\n",
    "\n",
    " # map_data_frame_to_pickle(df, 'train_emb')\n",
    "\n",
    "with open(\"../data_gathering/baseline/output/imdb_id_with_embSentencesList.pkl\", \"rb\") as f:\n",
    "    object = pkl.load(f)\n",
    "    \n",
    "df = pd.DataFrame(object)\n",
    "print(df)\n",
    "#print(df['text_emb'][78].shape)\n",
    "#df.to_csv(r'train_emb.csv')"
   ]
  }
 ],
 "metadata": {
  "kernelspec": {
   "display_name": "model_env",
   "language": "python",
   "name": "python3"
  },
  "language_info": {
   "codemirror_mode": {
    "name": "ipython",
    "version": 3
   },
   "file_extension": ".py",
   "mimetype": "text/x-python",
   "name": "python",
   "nbconvert_exporter": "python",
   "pygments_lexer": "ipython3",
   "version": "3.7.16"
  },
  "orig_nbformat": 4,
  "vscode": {
   "interpreter": {
    "hash": "58a70258e14bd297a6daf9cfe92670f895d4f6fbf2bfd1d162369aa9303133c0"
   }
  }
 },
 "nbformat": 4,
 "nbformat_minor": 2
}
